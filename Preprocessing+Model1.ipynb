{
 "cells": [
  {
   "cell_type": "code",
   "execution_count": 185,
   "id": "0f981cc4",
   "metadata": {},
   "outputs": [],
   "source": [
    "import pandas as pd\n",
    "import nltk\n",
    "from nltk.tokenize import word_tokenize\n",
    "from nltk.corpus import stopwords\n",
    "from nltk.stem import WordNetLemmatizer\n",
    "from sklearn.model_selection import train_test_split"
   ]
  },
  {
   "cell_type": "code",
   "execution_count": 186,
   "id": "39674501",
   "metadata": {},
   "outputs": [
    {
     "data": {
      "text/html": [
       "<div>\n",
       "<style scoped>\n",
       "    .dataframe tbody tr th:only-of-type {\n",
       "        vertical-align: middle;\n",
       "    }\n",
       "\n",
       "    .dataframe tbody tr th {\n",
       "        vertical-align: top;\n",
       "    }\n",
       "\n",
       "    .dataframe thead th {\n",
       "        text-align: right;\n",
       "    }\n",
       "</style>\n",
       "<table border=\"1\" class=\"dataframe\">\n",
       "  <thead>\n",
       "    <tr style=\"text-align: right;\">\n",
       "      <th></th>\n",
       "      <th>Id</th>\n",
       "      <th>Name</th>\n",
       "      <th>Authors</th>\n",
       "      <th>ISBN</th>\n",
       "      <th>Rating</th>\n",
       "      <th>PublishYear</th>\n",
       "      <th>PublishMonth</th>\n",
       "      <th>PublishDay</th>\n",
       "      <th>Publisher</th>\n",
       "      <th>RatingDist5</th>\n",
       "      <th>RatingDist4</th>\n",
       "      <th>RatingDist3</th>\n",
       "      <th>RatingDist2</th>\n",
       "      <th>RatingDist1</th>\n",
       "      <th>RatingDistTotal</th>\n",
       "      <th>CountsOfReview</th>\n",
       "      <th>Language</th>\n",
       "      <th>pagesNumber</th>\n",
       "      <th>Description</th>\n",
       "    </tr>\n",
       "  </thead>\n",
       "  <tbody>\n",
       "    <tr>\n",
       "      <th>0</th>\n",
       "      <td>600000</td>\n",
       "      <td>Lessons Learned (Great Chefs, #2)</td>\n",
       "      <td>Nora Roberts</td>\n",
       "      <td>037351025X</td>\n",
       "      <td>3.74</td>\n",
       "      <td>1993</td>\n",
       "      <td>15</td>\n",
       "      <td>2</td>\n",
       "      <td>Silhouette</td>\n",
       "      <td>5:947</td>\n",
       "      <td>4:1016</td>\n",
       "      <td>3:1061</td>\n",
       "      <td>2:287</td>\n",
       "      <td>1:63</td>\n",
       "      <td>total:3374</td>\n",
       "      <td>86</td>\n",
       "      <td>eng</td>\n",
       "      <td>250</td>\n",
       "      <td>LESSONS LEARNED...&lt;br /&gt;&lt;br /&gt;Coordinating the...</td>\n",
       "    </tr>\n",
       "    <tr>\n",
       "      <th>1</th>\n",
       "      <td>600001</td>\n",
       "      <td>Walking by Faith: Lessons Learned in the Dark</td>\n",
       "      <td>Jennifer Rothschild</td>\n",
       "      <td>0633099325</td>\n",
       "      <td>4.27</td>\n",
       "      <td>2003</td>\n",
       "      <td>1</td>\n",
       "      <td>1</td>\n",
       "      <td>Lifeway Church Resources</td>\n",
       "      <td>5:367</td>\n",
       "      <td>4:246</td>\n",
       "      <td>3:109</td>\n",
       "      <td>2:22</td>\n",
       "      <td>1:5</td>\n",
       "      <td>total:749</td>\n",
       "      <td>7</td>\n",
       "      <td>NaN</td>\n",
       "      <td>112</td>\n",
       "      <td>At the age of fifteen, Jennifer Rothschild con...</td>\n",
       "    </tr>\n",
       "    <tr>\n",
       "      <th>2</th>\n",
       "      <td>600003</td>\n",
       "      <td>Better Health in Africa: Experience and Lesson...</td>\n",
       "      <td>World Bank Group</td>\n",
       "      <td>0821328174</td>\n",
       "      <td>5.00</td>\n",
       "      <td>1994</td>\n",
       "      <td>1</td>\n",
       "      <td>1</td>\n",
       "      <td>World Bank Publications</td>\n",
       "      <td>5:1</td>\n",
       "      <td>4:0</td>\n",
       "      <td>3:0</td>\n",
       "      <td>2:0</td>\n",
       "      <td>1:0</td>\n",
       "      <td>total:1</td>\n",
       "      <td>1</td>\n",
       "      <td>NaN</td>\n",
       "      <td>240</td>\n",
       "      <td>NaN</td>\n",
       "    </tr>\n",
       "    <tr>\n",
       "      <th>3</th>\n",
       "      <td>600004</td>\n",
       "      <td>The Blended Learning Book: Best Practices, Pro...</td>\n",
       "      <td>Josh Bersin</td>\n",
       "      <td>0787972967</td>\n",
       "      <td>4.10</td>\n",
       "      <td>2004</td>\n",
       "      <td>1</td>\n",
       "      <td>10</td>\n",
       "      <td>Pfeiffer</td>\n",
       "      <td>5:8</td>\n",
       "      <td>4:6</td>\n",
       "      <td>3:6</td>\n",
       "      <td>2:0</td>\n",
       "      <td>1:0</td>\n",
       "      <td>total:20</td>\n",
       "      <td>3</td>\n",
       "      <td>NaN</td>\n",
       "      <td>319</td>\n",
       "      <td>&lt;i&gt;The Blended Learning Book&lt;/i&gt; is your user'...</td>\n",
       "    </tr>\n",
       "    <tr>\n",
       "      <th>4</th>\n",
       "      <td>600005</td>\n",
       "      <td>Lessons Learned: Successes Achieved: Be Prepar...</td>\n",
       "      <td>Robert G. Gillio</td>\n",
       "      <td>0595417566</td>\n",
       "      <td>3.00</td>\n",
       "      <td>2006</td>\n",
       "      <td>30</td>\n",
       "      <td>11</td>\n",
       "      <td>iUniverse</td>\n",
       "      <td>5:0</td>\n",
       "      <td>4:0</td>\n",
       "      <td>3:1</td>\n",
       "      <td>2:0</td>\n",
       "      <td>1:0</td>\n",
       "      <td>total:1</td>\n",
       "      <td>0</td>\n",
       "      <td>NaN</td>\n",
       "      <td>168</td>\n",
       "      <td>\"&lt;b&gt;Lessons Learned: Successes Achieved&lt;/b&gt;\" w...</td>\n",
       "    </tr>\n",
       "  </tbody>\n",
       "</table>\n",
       "</div>"
      ],
      "text/plain": [
       "       Id                                               Name  \\\n",
       "0  600000                  Lessons Learned (Great Chefs, #2)   \n",
       "1  600001      Walking by Faith: Lessons Learned in the Dark   \n",
       "2  600003  Better Health in Africa: Experience and Lesson...   \n",
       "3  600004  The Blended Learning Book: Best Practices, Pro...   \n",
       "4  600005  Lessons Learned: Successes Achieved: Be Prepar...   \n",
       "\n",
       "               Authors        ISBN  Rating  PublishYear  PublishMonth  \\\n",
       "0         Nora Roberts  037351025X    3.74         1993            15   \n",
       "1  Jennifer Rothschild  0633099325    4.27         2003             1   \n",
       "2     World Bank Group  0821328174    5.00         1994             1   \n",
       "3          Josh Bersin  0787972967    4.10         2004             1   \n",
       "4     Robert G. Gillio  0595417566    3.00         2006            30   \n",
       "\n",
       "   PublishDay                 Publisher RatingDist5 RatingDist4 RatingDist3  \\\n",
       "0           2                Silhouette       5:947      4:1016      3:1061   \n",
       "1           1  Lifeway Church Resources       5:367       4:246       3:109   \n",
       "2           1   World Bank Publications         5:1         4:0         3:0   \n",
       "3          10                  Pfeiffer         5:8         4:6         3:6   \n",
       "4          11                 iUniverse         5:0         4:0         3:1   \n",
       "\n",
       "  RatingDist2 RatingDist1 RatingDistTotal  CountsOfReview Language  \\\n",
       "0       2:287        1:63      total:3374              86      eng   \n",
       "1        2:22         1:5       total:749               7      NaN   \n",
       "2         2:0         1:0         total:1               1      NaN   \n",
       "3         2:0         1:0        total:20               3      NaN   \n",
       "4         2:0         1:0         total:1               0      NaN   \n",
       "\n",
       "   pagesNumber                                        Description  \n",
       "0          250  LESSONS LEARNED...<br /><br />Coordinating the...  \n",
       "1          112  At the age of fifteen, Jennifer Rothschild con...  \n",
       "2          240                                                NaN  \n",
       "3          319  <i>The Blended Learning Book</i> is your user'...  \n",
       "4          168  \"<b>Lessons Learned: Successes Achieved</b>\" w...  "
      ]
     },
     "execution_count": 186,
     "metadata": {},
     "output_type": "execute_result"
    }
   ],
   "source": [
    "books_df = pd.read_csv('book600k-700k.csv', delimiter= \",\")\n",
    "books_df.head()"
   ]
  },
  {
   "cell_type": "code",
   "execution_count": 187,
   "id": "ea70f6b9",
   "metadata": {},
   "outputs": [
    {
     "data": {
      "text/html": [
       "<div>\n",
       "<style scoped>\n",
       "    .dataframe tbody tr th:only-of-type {\n",
       "        vertical-align: middle;\n",
       "    }\n",
       "\n",
       "    .dataframe tbody tr th {\n",
       "        vertical-align: top;\n",
       "    }\n",
       "\n",
       "    .dataframe thead th {\n",
       "        text-align: right;\n",
       "    }\n",
       "</style>\n",
       "<table border=\"1\" class=\"dataframe\">\n",
       "  <thead>\n",
       "    <tr style=\"text-align: right;\">\n",
       "      <th></th>\n",
       "      <th>ID</th>\n",
       "      <th>Name</th>\n",
       "      <th>Rating</th>\n",
       "    </tr>\n",
       "  </thead>\n",
       "  <tbody>\n",
       "    <tr>\n",
       "      <th>0</th>\n",
       "      <td>6675</td>\n",
       "      <td>Baxter, the Pig Who Wanted to Be Kosher</td>\n",
       "      <td>it was amazing</td>\n",
       "    </tr>\n",
       "    <tr>\n",
       "      <th>1</th>\n",
       "      <td>6675</td>\n",
       "      <td>Set This House in Order</td>\n",
       "      <td>really liked it</td>\n",
       "    </tr>\n",
       "    <tr>\n",
       "      <th>2</th>\n",
       "      <td>6675</td>\n",
       "      <td>Paradise Park</td>\n",
       "      <td>really liked it</td>\n",
       "    </tr>\n",
       "    <tr>\n",
       "      <th>3</th>\n",
       "      <td>7027</td>\n",
       "      <td>Paradise Park</td>\n",
       "      <td>liked it</td>\n",
       "    </tr>\n",
       "    <tr>\n",
       "      <th>4</th>\n",
       "      <td>6675</td>\n",
       "      <td>The Dead Fish Museum</td>\n",
       "      <td>it was amazing</td>\n",
       "    </tr>\n",
       "  </tbody>\n",
       "</table>\n",
       "</div>"
      ],
      "text/plain": [
       "     ID                                     Name           Rating\n",
       "0  6675  Baxter, the Pig Who Wanted to Be Kosher   it was amazing\n",
       "1  6675                  Set This House in Order  really liked it\n",
       "2  6675                            Paradise Park  really liked it\n",
       "3  7027                            Paradise Park         liked it\n",
       "4  6675                     The Dead Fish Museum   it was amazing"
      ]
     },
     "execution_count": 187,
     "metadata": {},
     "output_type": "execute_result"
    }
   ],
   "source": [
    "ratings_df = pd.read_csv('user_rating_6000_to_11000.csv', delimiter= \",\")\n",
    "ratings_df.head()"
   ]
  },
  {
   "cell_type": "code",
   "execution_count": 188,
   "id": "6b57afad",
   "metadata": {},
   "outputs": [
    {
     "data": {
      "text/plain": [
       "Index(['Id', 'Name', 'Authors', 'ISBN', 'Rating', 'PublishYear',\n",
       "       'PublishMonth', 'PublishDay', 'Publisher', 'RatingDist5', 'RatingDist4',\n",
       "       'RatingDist3', 'RatingDist2', 'RatingDist1', 'RatingDistTotal',\n",
       "       'CountsOfReview', 'Language', 'pagesNumber', 'Description'],\n",
       "      dtype='object')"
      ]
     },
     "execution_count": 188,
     "metadata": {},
     "output_type": "execute_result"
    }
   ],
   "source": [
    "books_df.columns"
   ]
  },
  {
   "cell_type": "code",
   "execution_count": 189,
   "id": "b6fdbb89",
   "metadata": {},
   "outputs": [
    {
     "data": {
      "text/html": [
       "<div>\n",
       "<style scoped>\n",
       "    .dataframe tbody tr th:only-of-type {\n",
       "        vertical-align: middle;\n",
       "    }\n",
       "\n",
       "    .dataframe tbody tr th {\n",
       "        vertical-align: top;\n",
       "    }\n",
       "\n",
       "    .dataframe thead th {\n",
       "        text-align: right;\n",
       "    }\n",
       "</style>\n",
       "<table border=\"1\" class=\"dataframe\">\n",
       "  <thead>\n",
       "    <tr style=\"text-align: right;\">\n",
       "      <th></th>\n",
       "      <th>Id</th>\n",
       "      <th>Name</th>\n",
       "      <th>Authors</th>\n",
       "      <th>ISBN</th>\n",
       "      <th>Rating_x</th>\n",
       "      <th>PublishYear</th>\n",
       "      <th>PublishMonth</th>\n",
       "      <th>PublishDay</th>\n",
       "      <th>Publisher</th>\n",
       "      <th>RatingDist5</th>\n",
       "      <th>...</th>\n",
       "      <th>RatingDist3</th>\n",
       "      <th>RatingDist2</th>\n",
       "      <th>RatingDist1</th>\n",
       "      <th>RatingDistTotal</th>\n",
       "      <th>CountsOfReview</th>\n",
       "      <th>Language</th>\n",
       "      <th>pagesNumber</th>\n",
       "      <th>Description</th>\n",
       "      <th>ID</th>\n",
       "      <th>Rating_y</th>\n",
       "    </tr>\n",
       "  </thead>\n",
       "  <tbody>\n",
       "    <tr>\n",
       "      <th>0</th>\n",
       "      <td>600044</td>\n",
       "      <td>Interrogations: The Nazi Elite in Allied Hands...</td>\n",
       "      <td>Richard Overy</td>\n",
       "      <td>0142001589</td>\n",
       "      <td>3.95</td>\n",
       "      <td>2002</td>\n",
       "      <td>24</td>\n",
       "      <td>9</td>\n",
       "      <td>Penguin Books</td>\n",
       "      <td>5:46</td>\n",
       "      <td>...</td>\n",
       "      <td>3:34</td>\n",
       "      <td>2:7</td>\n",
       "      <td>1:2</td>\n",
       "      <td>total:166</td>\n",
       "      <td>8</td>\n",
       "      <td>NaN</td>\n",
       "      <td>672</td>\n",
       "      <td>While the trial of Hitler's fallen elite at Nu...</td>\n",
       "      <td>9859</td>\n",
       "      <td>really liked it</td>\n",
       "    </tr>\n",
       "    <tr>\n",
       "      <th>1</th>\n",
       "      <td>600045</td>\n",
       "      <td>Russia's War: A History of the Soviet Effort: ...</td>\n",
       "      <td>Richard Overy</td>\n",
       "      <td>0140271694</td>\n",
       "      <td>4.19</td>\n",
       "      <td>1998</td>\n",
       "      <td>1</td>\n",
       "      <td>8</td>\n",
       "      <td>Penguin Books</td>\n",
       "      <td>5:879</td>\n",
       "      <td>...</td>\n",
       "      <td>3:303</td>\n",
       "      <td>2:59</td>\n",
       "      <td>1:28</td>\n",
       "      <td>total:1977</td>\n",
       "      <td>56</td>\n",
       "      <td>NaN</td>\n",
       "      <td>394</td>\n",
       "      <td>&lt;b&gt;\"A penetrating and compassionate book on th...</td>\n",
       "      <td>10627</td>\n",
       "      <td>really liked it</td>\n",
       "    </tr>\n",
       "    <tr>\n",
       "      <th>2</th>\n",
       "      <td>600051</td>\n",
       "      <td>Time of the Butcherbird</td>\n",
       "      <td>Alex La Guma</td>\n",
       "      <td>0435907581</td>\n",
       "      <td>3.80</td>\n",
       "      <td>1987</td>\n",
       "      <td>1</td>\n",
       "      <td>1</td>\n",
       "      <td>Heinemann Educational Books</td>\n",
       "      <td>5:16</td>\n",
       "      <td>...</td>\n",
       "      <td>3:21</td>\n",
       "      <td>2:1</td>\n",
       "      <td>1:2</td>\n",
       "      <td>total:66</td>\n",
       "      <td>4</td>\n",
       "      <td>NaN</td>\n",
       "      <td>128</td>\n",
       "      <td>Out on the flat, featureless South African vel...</td>\n",
       "      <td>10378</td>\n",
       "      <td>it was amazing</td>\n",
       "    </tr>\n",
       "    <tr>\n",
       "      <th>3</th>\n",
       "      <td>600057</td>\n",
       "      <td>Justice at Nuremberg</td>\n",
       "      <td>Robert E. Conot</td>\n",
       "      <td>0881840327</td>\n",
       "      <td>4.15</td>\n",
       "      <td>1993</td>\n",
       "      <td>28</td>\n",
       "      <td>1</td>\n",
       "      <td>Basic Books</td>\n",
       "      <td>5:88</td>\n",
       "      <td>...</td>\n",
       "      <td>3:40</td>\n",
       "      <td>2:6</td>\n",
       "      <td>1:1</td>\n",
       "      <td>total:225</td>\n",
       "      <td>16</td>\n",
       "      <td>eng</td>\n",
       "      <td>624</td>\n",
       "      <td>Here, for the first time in one volume, is the...</td>\n",
       "      <td>9859</td>\n",
       "      <td>liked it</td>\n",
       "    </tr>\n",
       "    <tr>\n",
       "      <th>4</th>\n",
       "      <td>600061</td>\n",
       "      <td>Infinite in All Directions</td>\n",
       "      <td>Freeman Dyson</td>\n",
       "      <td>0060915692</td>\n",
       "      <td>3.94</td>\n",
       "      <td>1989</td>\n",
       "      <td>1</td>\n",
       "      <td>2</td>\n",
       "      <td>Harper &amp; Row</td>\n",
       "      <td>5:91</td>\n",
       "      <td>...</td>\n",
       "      <td>3:72</td>\n",
       "      <td>2:11</td>\n",
       "      <td>1:6</td>\n",
       "      <td>total:330</td>\n",
       "      <td>5</td>\n",
       "      <td>NaN</td>\n",
       "      <td>319</td>\n",
       "      <td>Infinite In All Directions is a book on a wide...</td>\n",
       "      <td>10674</td>\n",
       "      <td>really liked it</td>\n",
       "    </tr>\n",
       "  </tbody>\n",
       "</table>\n",
       "<p>5 rows × 21 columns</p>\n",
       "</div>"
      ],
      "text/plain": [
       "       Id                                               Name          Authors  \\\n",
       "0  600044  Interrogations: The Nazi Elite in Allied Hands...    Richard Overy   \n",
       "1  600045  Russia's War: A History of the Soviet Effort: ...    Richard Overy   \n",
       "2  600051                            Time of the Butcherbird     Alex La Guma   \n",
       "3  600057                               Justice at Nuremberg  Robert E. Conot   \n",
       "4  600061                         Infinite in All Directions    Freeman Dyson   \n",
       "\n",
       "         ISBN  Rating_x  PublishYear  PublishMonth  PublishDay  \\\n",
       "0  0142001589      3.95         2002            24           9   \n",
       "1  0140271694      4.19         1998             1           8   \n",
       "2  0435907581      3.80         1987             1           1   \n",
       "3  0881840327      4.15         1993            28           1   \n",
       "4  0060915692      3.94         1989             1           2   \n",
       "\n",
       "                     Publisher RatingDist5  ... RatingDist3 RatingDist2  \\\n",
       "0                Penguin Books        5:46  ...        3:34         2:7   \n",
       "1                Penguin Books       5:879  ...       3:303        2:59   \n",
       "2  Heinemann Educational Books        5:16  ...        3:21         2:1   \n",
       "3                  Basic Books        5:88  ...        3:40         2:6   \n",
       "4                 Harper & Row        5:91  ...        3:72        2:11   \n",
       "\n",
       "  RatingDist1 RatingDistTotal CountsOfReview  Language pagesNumber  \\\n",
       "0         1:2       total:166              8       NaN         672   \n",
       "1        1:28      total:1977             56       NaN         394   \n",
       "2         1:2        total:66              4       NaN         128   \n",
       "3         1:1       total:225             16       eng         624   \n",
       "4         1:6       total:330              5       NaN         319   \n",
       "\n",
       "                                         Description     ID         Rating_y  \n",
       "0  While the trial of Hitler's fallen elite at Nu...   9859  really liked it  \n",
       "1  <b>\"A penetrating and compassionate book on th...  10627  really liked it  \n",
       "2  Out on the flat, featureless South African vel...  10378   it was amazing  \n",
       "3  Here, for the first time in one volume, is the...   9859         liked it  \n",
       "4  Infinite In All Directions is a book on a wide...  10674  really liked it  \n",
       "\n",
       "[5 rows x 21 columns]"
      ]
     },
     "execution_count": 189,
     "metadata": {},
     "output_type": "execute_result"
    }
   ],
   "source": [
    "merged_df = pd.merge(books_df, ratings_df, on='Name')\n",
    "merged_df.head()"
   ]
  },
  {
   "cell_type": "code",
   "execution_count": 190,
   "id": "e638f2b4",
   "metadata": {},
   "outputs": [
    {
     "data": {
      "text/plain": [
       "Index(['Id', 'Name', 'Authors', 'ISBN', 'Rating_x', 'PublishYear',\n",
       "       'PublishMonth', 'PublishDay', 'Publisher', 'RatingDist5', 'RatingDist4',\n",
       "       'RatingDist3', 'RatingDist2', 'RatingDist1', 'RatingDistTotal',\n",
       "       'CountsOfReview', 'Language', 'pagesNumber', 'Description', 'ID',\n",
       "       'Rating_y'],\n",
       "      dtype='object')"
      ]
     },
     "execution_count": 190,
     "metadata": {},
     "output_type": "execute_result"
    }
   ],
   "source": [
    "merged_df.columns"
   ]
  },
  {
   "cell_type": "code",
   "execution_count": 191,
   "id": "c50b8d26",
   "metadata": {},
   "outputs": [
    {
     "data": {
      "text/plain": [
       "Index(['bookID', 'Name', 'Authors', 'ISBN', 'Rating_x', 'PublishYear',\n",
       "       'PublishMonth', 'PublishDay', 'Publisher', 'RatingDist5', 'RatingDist4',\n",
       "       'RatingDist3', 'RatingDist2', 'RatingDist1', 'RatingDistTotal',\n",
       "       'CountsOfReview', 'Language', 'pagesNumber', 'Description', 'userID',\n",
       "       'Rating_y'],\n",
       "      dtype='object')"
      ]
     },
     "execution_count": 191,
     "metadata": {},
     "output_type": "execute_result"
    }
   ],
   "source": [
    "# Renaming the IDs for better interpretation of data as one is referring to the book's ID and the other one to the user rating it\n",
    "merged_df.rename(columns={'Id': 'bookID'}, inplace=True)\n",
    "merged_df.rename(columns={'ID': 'userID'}, inplace=True)\n",
    "merged_df.columns"
   ]
  },
  {
   "cell_type": "code",
   "execution_count": 192,
   "id": "f52c91f0",
   "metadata": {},
   "outputs": [
    {
     "data": {
      "text/plain": [
       "651603    323\n",
       "662347    290\n",
       "620121    234\n",
       "608945    233\n",
       "667456    220\n",
       "         ... \n",
       "637047      1\n",
       "636941      1\n",
       "636915      1\n",
       "636880      1\n",
       "699839      1\n",
       "Name: bookID, Length: 1651, dtype: int64"
      ]
     },
     "execution_count": 192,
     "metadata": {},
     "output_type": "execute_result"
    }
   ],
   "source": [
    "merged_df['bookID'].value_counts()"
   ]
  },
  {
   "cell_type": "code",
   "execution_count": 193,
   "id": "b97f7459",
   "metadata": {},
   "outputs": [],
   "source": [
    "# Dropping duplicate book IDs\n",
    "merged_df = merged_df.drop_duplicates(subset='bookID', keep='first')"
   ]
  },
  {
   "cell_type": "code",
   "execution_count": 194,
   "id": "d48c6d82",
   "metadata": {},
   "outputs": [
    {
     "data": {
      "text/plain": [
       "(1651, 21)"
      ]
     },
     "execution_count": 194,
     "metadata": {},
     "output_type": "execute_result"
    }
   ],
   "source": [
    "merged_df.shape"
   ]
  },
  {
   "cell_type": "code",
   "execution_count": 195,
   "id": "331a490b",
   "metadata": {},
   "outputs": [
    {
     "name": "stdout",
     "output_type": "stream",
     "text": [
      "bookID               0\n",
      "Name                 0\n",
      "Authors              0\n",
      "ISBN                25\n",
      "Rating_x             0\n",
      "PublishYear          0\n",
      "PublishMonth         0\n",
      "PublishDay           0\n",
      "Publisher           12\n",
      "RatingDist5          0\n",
      "RatingDist4          0\n",
      "RatingDist3          0\n",
      "RatingDist2          0\n",
      "RatingDist1          0\n",
      "RatingDistTotal      0\n",
      "CountsOfReview       0\n",
      "Language           938\n",
      "pagesNumber          0\n",
      "Description         92\n",
      "userID               0\n",
      "Rating_y             0\n",
      "dtype: int64\n"
     ]
    }
   ],
   "source": [
    "# Number of missing values per column \n",
    "missing_per_column = merged_df.isnull().sum()\n",
    "print(missing_per_column)"
   ]
  },
  {
   "cell_type": "code",
   "execution_count": 196,
   "id": "fef43445",
   "metadata": {},
   "outputs": [],
   "source": [
    "# Removing the rows that have no description\n",
    "merged_df = merged_df.dropna(subset=['Description'])\n",
    "# Removing the rows that are not English\n",
    "merged_df = merged_df[merged_df['Language'].str.startswith('en', na=False)]"
   ]
  },
  {
   "cell_type": "code",
   "execution_count": 197,
   "id": "fefcd973",
   "metadata": {},
   "outputs": [
    {
     "data": {
      "text/plain": [
       "(679, 21)"
      ]
     },
     "execution_count": 197,
     "metadata": {},
     "output_type": "execute_result"
    }
   ],
   "source": [
    "merged_df.shape"
   ]
  },
  {
   "cell_type": "code",
   "execution_count": 198,
   "id": "46480b59",
   "metadata": {},
   "outputs": [
    {
     "data": {
      "text/plain": [
       "eng      552\n",
       "en-US     99\n",
       "en-GB     26\n",
       "en-CA      2\n",
       "Name: Language, dtype: int64"
      ]
     },
     "execution_count": 198,
     "metadata": {},
     "output_type": "execute_result"
    }
   ],
   "source": [
    "merged_df['Language'].value_counts()"
   ]
  },
  {
   "cell_type": "code",
   "execution_count": 199,
   "id": "099cc1bc",
   "metadata": {},
   "outputs": [],
   "source": [
    "# # For ISBN and Publisher we can ignore these missing values as they are not really relevant to our analysis. \n",
    "# # Language, however, can be quite important for a book recommendation system, as it directly affects user preferences \n",
    "# # and accessibility. \n",
    "\n",
    "# Mode imputation for missing values:\n",
    "mode_language = merged_df['Language'].mode()[0]\n",
    "merged_df['Language'].fillna(mode_language, inplace=True)"
   ]
  },
  {
   "cell_type": "code",
   "execution_count": 200,
   "id": "3a5d02ab",
   "metadata": {},
   "outputs": [],
   "source": [
    "# Tokenizing and lemmatizing columns:\n",
    "def tokenize_and_lemmatize(col):\n",
    "    # ensures col is a string\n",
    "    col = str(col)\n",
    "    # Load English stopwords\n",
    "    stop_words = set(stopwords.words('english'))\n",
    "    # Initialize the Lemmatizer\n",
    "    lemmatizer = WordNetLemmatizer()\n",
    "    # Tokenize the column\n",
    "    tokens = word_tokenize(col.lower())\n",
    "    # Filter out stopwords and non-alphabetic characters\n",
    "    filtered_tokens = [word for word in tokens if word.isalpha() and word not in stop_words]\n",
    "    # Lemmatize each filtered token\n",
    "    lemmatized_tokens = [lemmatizer.lemmatize(word) for word in filtered_tokens]\n",
    "    return lemmatized_tokens"
   ]
  },
  {
   "cell_type": "code",
   "execution_count": 201,
   "id": "883bd843",
   "metadata": {},
   "outputs": [],
   "source": [
    "# Apply the tokenizing and lemmatization function to the \"text\" cols:\n",
    "merged_df['Processed_Name'] = merged_df['Name'].apply(tokenize_and_lemmatize)\n",
    "merged_df['Processed_Authors'] = merged_df['Authors'].apply(tokenize_and_lemmatize)\n",
    "# Not that relevant for our analysis but just in case we use it later on:\n",
    "merged_df['Processed_Publisher'] = merged_df['Publisher'].apply(tokenize_and_lemmatize)\n",
    "merged_df['Processed_Rating'] = merged_df['Rating_y'].apply(tokenize_and_lemmatize)\n",
    "merged_df['Processed_Description'] = merged_df['Description'].apply(tokenize_and_lemmatize)\n",
    "\n",
    "# Transforming the list\n",
    "merged_df['Processed_Description'] = merged_df['Processed_Description'].apply(lambda x: ' '.join(x))"
   ]
  },
  {
   "cell_type": "code",
   "execution_count": 202,
   "id": "195c26b7",
   "metadata": {},
   "outputs": [
    {
     "data": {
      "text/plain": [
       "(679, 26)"
      ]
     },
     "execution_count": 202,
     "metadata": {},
     "output_type": "execute_result"
    }
   ],
   "source": [
    "merged_df.shape"
   ]
  },
  {
   "cell_type": "code",
   "execution_count": 203,
   "id": "3aa34110",
   "metadata": {},
   "outputs": [],
   "source": [
    "# Splitting into a training and validation set:\n",
    "df_train_set, df_valid_set = train_test_split(merged_df, test_size=0.2, random_state=42, shuffle=True) # random state for reproducibility"
   ]
  },
  {
   "cell_type": "markdown",
   "id": "455c81fb",
   "metadata": {},
   "source": [
    "# Description Model (Anne Marijn & Clarice)"
   ]
  },
  {
   "cell_type": "code",
   "execution_count": 204,
   "id": "76a5467a",
   "metadata": {},
   "outputs": [],
   "source": [
    "# Imports\n",
    "from sklearn.feature_extraction.text import TfidfVectorizer\n",
    "from sklearn.metrics.pairwise import cosine_similarity"
   ]
  },
  {
   "cell_type": "code",
   "execution_count": 205,
   "id": "8f64f523",
   "metadata": {},
   "outputs": [
    {
     "name": "stdout",
     "output_type": "stream",
     "text": [
      "(543, 26)\n",
      "(136, 26)\n"
     ]
    }
   ],
   "source": [
    "print(df_train_set.shape)\n",
    "print(df_valid_set.shape)"
   ]
  },
  {
   "cell_type": "code",
   "execution_count": null,
   "id": "e5f216d8",
   "metadata": {},
   "outputs": [],
   "source": [
    "\n"
   ]
  },
  {
   "cell_type": "code",
   "execution_count": 206,
   "id": "e759c5f4",
   "metadata": {},
   "outputs": [
    {
     "data": {
      "text/plain": [
       "(543, 10330)"
      ]
     },
     "execution_count": 206,
     "metadata": {},
     "output_type": "execute_result"
    }
   ],
   "source": [
    "tfidf_matrix.shape"
   ]
  },
  {
   "cell_type": "code",
   "execution_count": 207,
   "id": "2a62ee75",
   "metadata": {},
   "outputs": [],
   "source": [
    "def calculate_description_similarity(df):\n",
    "    # Initialising tfidf vectorisation\n",
    "    tf = TfidfVectorizer()\n",
    "    \n",
    "    # Fitting and transforming\n",
    "    tfidf_matrix = tf.fit_transform(df['Processed_Description'])\n",
    "    \n",
    "    # Calculating cosine similarities of tfidf vectors\n",
    "    description_similarity_matrix = cosine_similarity(tfidf_matrix, tfidf_matrix)\n",
    "    description_similarity_matrix = pd.DataFrame(description_similarity_matrix, \n",
    "                                                 index=df['Name'], \n",
    "                                                 columns=df['Name'])\n",
    "    \n",
    "    return description_similarity_matrix"
   ]
  },
  {
   "cell_type": "code",
   "execution_count": 208,
   "id": "84155567",
   "metadata": {},
   "outputs": [],
   "source": [
    "description_matrix = calculate_description_similarity(df_train_set)"
   ]
  },
  {
   "cell_type": "code",
   "execution_count": 209,
   "id": "3463b4b7",
   "metadata": {},
   "outputs": [
    {
     "data": {
      "text/html": [
       "<div>\n",
       "<style scoped>\n",
       "    .dataframe tbody tr th:only-of-type {\n",
       "        vertical-align: middle;\n",
       "    }\n",
       "\n",
       "    .dataframe tbody tr th {\n",
       "        vertical-align: top;\n",
       "    }\n",
       "\n",
       "    .dataframe thead th {\n",
       "        text-align: right;\n",
       "    }\n",
       "</style>\n",
       "<table border=\"1\" class=\"dataframe\">\n",
       "  <thead>\n",
       "    <tr style=\"text-align: right;\">\n",
       "      <th>Name</th>\n",
       "      <th>Orange Pear Apple Bear</th>\n",
       "      <th>Nobody's Angel</th>\n",
       "      <th>Stupid History: Tales of Stupidity, Strangeness, and Mythconceptions Throughout the Ages</th>\n",
       "      <th>Give and Take</th>\n",
       "      <th>The House of the Vestals (Roma Sub Rosa, #6)</th>\n",
       "      <th>Chronicle of a Death Foretold</th>\n",
       "      <th>The Great Bridge: The Epic Story of the Building of the Brooklyn Bridge</th>\n",
       "      <th>We</th>\n",
       "      <th>Prince of Dogs (Crown of Stars, #2)</th>\n",
       "      <th>The Stand</th>\n",
       "      <th>...</th>\n",
       "      <th>The Leopard</th>\n",
       "      <th>The Pump House Gang</th>\n",
       "      <th>Trouble and Her Friends</th>\n",
       "      <th>The Mageborn Traitor (Exiles, #2)</th>\n",
       "      <th>A Walk on the Wild Side</th>\n",
       "      <th>The Metamorphosis</th>\n",
       "      <th>Into the Forest</th>\n",
       "      <th>The Man Who Ate Everything</th>\n",
       "      <th>Nobody's Fool</th>\n",
       "      <th>Volcano: A Memoir of Hawai'i</th>\n",
       "    </tr>\n",
       "    <tr>\n",
       "      <th>Name</th>\n",
       "      <th></th>\n",
       "      <th></th>\n",
       "      <th></th>\n",
       "      <th></th>\n",
       "      <th></th>\n",
       "      <th></th>\n",
       "      <th></th>\n",
       "      <th></th>\n",
       "      <th></th>\n",
       "      <th></th>\n",
       "      <th></th>\n",
       "      <th></th>\n",
       "      <th></th>\n",
       "      <th></th>\n",
       "      <th></th>\n",
       "      <th></th>\n",
       "      <th></th>\n",
       "      <th></th>\n",
       "      <th></th>\n",
       "      <th></th>\n",
       "      <th></th>\n",
       "    </tr>\n",
       "  </thead>\n",
       "  <tbody>\n",
       "    <tr>\n",
       "      <th>Orange Pear Apple Bear</th>\n",
       "      <td>1.000000</td>\n",
       "      <td>0.014711</td>\n",
       "      <td>0.000000</td>\n",
       "      <td>0.000000</td>\n",
       "      <td>0.000000</td>\n",
       "      <td>0.000000</td>\n",
       "      <td>0.012786</td>\n",
       "      <td>0.000000</td>\n",
       "      <td>0.003375</td>\n",
       "      <td>0.018281</td>\n",
       "      <td>...</td>\n",
       "      <td>0.000000</td>\n",
       "      <td>0.008886</td>\n",
       "      <td>0.006251</td>\n",
       "      <td>0.049019</td>\n",
       "      <td>0.000000</td>\n",
       "      <td>0.000000</td>\n",
       "      <td>0.006035</td>\n",
       "      <td>0.030550</td>\n",
       "      <td>0.000000</td>\n",
       "      <td>0.000000</td>\n",
       "    </tr>\n",
       "    <tr>\n",
       "      <th>Nobody's Angel</th>\n",
       "      <td>0.014711</td>\n",
       "      <td>1.000000</td>\n",
       "      <td>0.052087</td>\n",
       "      <td>0.042520</td>\n",
       "      <td>0.015332</td>\n",
       "      <td>0.048762</td>\n",
       "      <td>0.039863</td>\n",
       "      <td>0.046056</td>\n",
       "      <td>0.065747</td>\n",
       "      <td>0.013858</td>\n",
       "      <td>...</td>\n",
       "      <td>0.006552</td>\n",
       "      <td>0.000000</td>\n",
       "      <td>0.059248</td>\n",
       "      <td>0.031543</td>\n",
       "      <td>0.075290</td>\n",
       "      <td>0.025742</td>\n",
       "      <td>0.028534</td>\n",
       "      <td>0.029033</td>\n",
       "      <td>0.032990</td>\n",
       "      <td>0.012218</td>\n",
       "    </tr>\n",
       "    <tr>\n",
       "      <th>Stupid History: Tales of Stupidity, Strangeness, and Mythconceptions Throughout the Ages</th>\n",
       "      <td>0.000000</td>\n",
       "      <td>0.052087</td>\n",
       "      <td>1.000000</td>\n",
       "      <td>0.018487</td>\n",
       "      <td>0.023674</td>\n",
       "      <td>0.097910</td>\n",
       "      <td>0.055268</td>\n",
       "      <td>0.000000</td>\n",
       "      <td>0.064679</td>\n",
       "      <td>0.002286</td>\n",
       "      <td>...</td>\n",
       "      <td>0.003161</td>\n",
       "      <td>0.010521</td>\n",
       "      <td>0.078934</td>\n",
       "      <td>0.055091</td>\n",
       "      <td>0.081268</td>\n",
       "      <td>0.058052</td>\n",
       "      <td>0.060694</td>\n",
       "      <td>0.027882</td>\n",
       "      <td>0.031464</td>\n",
       "      <td>0.000000</td>\n",
       "    </tr>\n",
       "    <tr>\n",
       "      <th>Give and Take</th>\n",
       "      <td>0.000000</td>\n",
       "      <td>0.042520</td>\n",
       "      <td>0.018487</td>\n",
       "      <td>1.000000</td>\n",
       "      <td>0.000000</td>\n",
       "      <td>0.046961</td>\n",
       "      <td>0.003430</td>\n",
       "      <td>0.000000</td>\n",
       "      <td>0.023687</td>\n",
       "      <td>0.017456</td>\n",
       "      <td>...</td>\n",
       "      <td>0.000000</td>\n",
       "      <td>0.000000</td>\n",
       "      <td>0.016709</td>\n",
       "      <td>0.004850</td>\n",
       "      <td>0.038876</td>\n",
       "      <td>0.004181</td>\n",
       "      <td>0.013615</td>\n",
       "      <td>0.048568</td>\n",
       "      <td>0.002576</td>\n",
       "      <td>0.000000</td>\n",
       "    </tr>\n",
       "    <tr>\n",
       "      <th>The House of the Vestals (Roma Sub Rosa, #6)</th>\n",
       "      <td>0.000000</td>\n",
       "      <td>0.015332</td>\n",
       "      <td>0.023674</td>\n",
       "      <td>0.000000</td>\n",
       "      <td>1.000000</td>\n",
       "      <td>0.014801</td>\n",
       "      <td>0.028614</td>\n",
       "      <td>0.016795</td>\n",
       "      <td>0.024704</td>\n",
       "      <td>0.011351</td>\n",
       "      <td>...</td>\n",
       "      <td>0.005855</td>\n",
       "      <td>0.043230</td>\n",
       "      <td>0.045025</td>\n",
       "      <td>0.022904</td>\n",
       "      <td>0.013825</td>\n",
       "      <td>0.023907</td>\n",
       "      <td>0.015180</td>\n",
       "      <td>0.000000</td>\n",
       "      <td>0.018492</td>\n",
       "      <td>0.022972</td>\n",
       "    </tr>\n",
       "  </tbody>\n",
       "</table>\n",
       "<p>5 rows × 543 columns</p>\n",
       "</div>"
      ],
      "text/plain": [
       "Name                                                Orange Pear Apple Bear  \\\n",
       "Name                                                                         \n",
       "Orange Pear Apple Bear                                            1.000000   \n",
       "Nobody's Angel                                                    0.014711   \n",
       "Stupid History: Tales of Stupidity, Strangeness...                0.000000   \n",
       "Give and Take                                                     0.000000   \n",
       "The House of the Vestals (Roma Sub Rosa, #6)                      0.000000   \n",
       "\n",
       "Name                                                Nobody's Angel  \\\n",
       "Name                                                                 \n",
       "Orange Pear Apple Bear                                    0.014711   \n",
       "Nobody's Angel                                            1.000000   \n",
       "Stupid History: Tales of Stupidity, Strangeness...        0.052087   \n",
       "Give and Take                                             0.042520   \n",
       "The House of the Vestals (Roma Sub Rosa, #6)              0.015332   \n",
       "\n",
       "Name                                                Stupid History: Tales of Stupidity, Strangeness, and Mythconceptions Throughout the Ages  \\\n",
       "Name                                                                                                                                           \n",
       "Orange Pear Apple Bear                                                                       0.000000                                          \n",
       "Nobody's Angel                                                                               0.052087                                          \n",
       "Stupid History: Tales of Stupidity, Strangeness...                                           1.000000                                          \n",
       "Give and Take                                                                                0.018487                                          \n",
       "The House of the Vestals (Roma Sub Rosa, #6)                                                 0.023674                                          \n",
       "\n",
       "Name                                                Give and Take  \\\n",
       "Name                                                                \n",
       "Orange Pear Apple Bear                                   0.000000   \n",
       "Nobody's Angel                                           0.042520   \n",
       "Stupid History: Tales of Stupidity, Strangeness...       0.018487   \n",
       "Give and Take                                            1.000000   \n",
       "The House of the Vestals (Roma Sub Rosa, #6)             0.000000   \n",
       "\n",
       "Name                                                The House of the Vestals (Roma Sub Rosa, #6)  \\\n",
       "Name                                                                                               \n",
       "Orange Pear Apple Bear                                                                  0.000000   \n",
       "Nobody's Angel                                                                          0.015332   \n",
       "Stupid History: Tales of Stupidity, Strangeness...                                      0.023674   \n",
       "Give and Take                                                                           0.000000   \n",
       "The House of the Vestals (Roma Sub Rosa, #6)                                            1.000000   \n",
       "\n",
       "Name                                                Chronicle of a Death Foretold  \\\n",
       "Name                                                                                \n",
       "Orange Pear Apple Bear                                                   0.000000   \n",
       "Nobody's Angel                                                           0.048762   \n",
       "Stupid History: Tales of Stupidity, Strangeness...                       0.097910   \n",
       "Give and Take                                                            0.046961   \n",
       "The House of the Vestals (Roma Sub Rosa, #6)                             0.014801   \n",
       "\n",
       "Name                                                The Great Bridge: The Epic Story of the Building of the Brooklyn Bridge  \\\n",
       "Name                                                                                                                          \n",
       "Orange Pear Apple Bear                                                                       0.012786                         \n",
       "Nobody's Angel                                                                               0.039863                         \n",
       "Stupid History: Tales of Stupidity, Strangeness...                                           0.055268                         \n",
       "Give and Take                                                                                0.003430                         \n",
       "The House of the Vestals (Roma Sub Rosa, #6)                                                 0.028614                         \n",
       "\n",
       "Name                                                      We  \\\n",
       "Name                                                           \n",
       "Orange Pear Apple Bear                              0.000000   \n",
       "Nobody's Angel                                      0.046056   \n",
       "Stupid History: Tales of Stupidity, Strangeness...  0.000000   \n",
       "Give and Take                                       0.000000   \n",
       "The House of the Vestals (Roma Sub Rosa, #6)        0.016795   \n",
       "\n",
       "Name                                                Prince of Dogs (Crown of Stars, #2)  \\\n",
       "Name                                                                                      \n",
       "Orange Pear Apple Bear                                                         0.003375   \n",
       "Nobody's Angel                                                                 0.065747   \n",
       "Stupid History: Tales of Stupidity, Strangeness...                             0.064679   \n",
       "Give and Take                                                                  0.023687   \n",
       "The House of the Vestals (Roma Sub Rosa, #6)                                   0.024704   \n",
       "\n",
       "Name                                                The Stand  ...  \\\n",
       "Name                                                           ...   \n",
       "Orange Pear Apple Bear                               0.018281  ...   \n",
       "Nobody's Angel                                       0.013858  ...   \n",
       "Stupid History: Tales of Stupidity, Strangeness...   0.002286  ...   \n",
       "Give and Take                                        0.017456  ...   \n",
       "The House of the Vestals (Roma Sub Rosa, #6)         0.011351  ...   \n",
       "\n",
       "Name                                                The Leopard  \\\n",
       "Name                                                              \n",
       "Orange Pear Apple Bear                                 0.000000   \n",
       "Nobody's Angel                                         0.006552   \n",
       "Stupid History: Tales of Stupidity, Strangeness...     0.003161   \n",
       "Give and Take                                          0.000000   \n",
       "The House of the Vestals (Roma Sub Rosa, #6)           0.005855   \n",
       "\n",
       "Name                                                The Pump House Gang  \\\n",
       "Name                                                                      \n",
       "Orange Pear Apple Bear                                         0.008886   \n",
       "Nobody's Angel                                                 0.000000   \n",
       "Stupid History: Tales of Stupidity, Strangeness...             0.010521   \n",
       "Give and Take                                                  0.000000   \n",
       "The House of the Vestals (Roma Sub Rosa, #6)                   0.043230   \n",
       "\n",
       "Name                                                Trouble and Her Friends  \\\n",
       "Name                                                                          \n",
       "Orange Pear Apple Bear                                             0.006251   \n",
       "Nobody's Angel                                                     0.059248   \n",
       "Stupid History: Tales of Stupidity, Strangeness...                 0.078934   \n",
       "Give and Take                                                      0.016709   \n",
       "The House of the Vestals (Roma Sub Rosa, #6)                       0.045025   \n",
       "\n",
       "Name                                                The Mageborn Traitor (Exiles, #2)  \\\n",
       "Name                                                                                    \n",
       "Orange Pear Apple Bear                                                       0.049019   \n",
       "Nobody's Angel                                                               0.031543   \n",
       "Stupid History: Tales of Stupidity, Strangeness...                           0.055091   \n",
       "Give and Take                                                                0.004850   \n",
       "The House of the Vestals (Roma Sub Rosa, #6)                                 0.022904   \n",
       "\n",
       "Name                                                A Walk on the Wild Side  \\\n",
       "Name                                                                          \n",
       "Orange Pear Apple Bear                                             0.000000   \n",
       "Nobody's Angel                                                     0.075290   \n",
       "Stupid History: Tales of Stupidity, Strangeness...                 0.081268   \n",
       "Give and Take                                                      0.038876   \n",
       "The House of the Vestals (Roma Sub Rosa, #6)                       0.013825   \n",
       "\n",
       "Name                                                The Metamorphosis  \\\n",
       "Name                                                                    \n",
       "Orange Pear Apple Bear                                       0.000000   \n",
       "Nobody's Angel                                               0.025742   \n",
       "Stupid History: Tales of Stupidity, Strangeness...           0.058052   \n",
       "Give and Take                                                0.004181   \n",
       "The House of the Vestals (Roma Sub Rosa, #6)                 0.023907   \n",
       "\n",
       "Name                                                Into the Forest  \\\n",
       "Name                                                                  \n",
       "Orange Pear Apple Bear                                     0.006035   \n",
       "Nobody's Angel                                             0.028534   \n",
       "Stupid History: Tales of Stupidity, Strangeness...         0.060694   \n",
       "Give and Take                                              0.013615   \n",
       "The House of the Vestals (Roma Sub Rosa, #6)               0.015180   \n",
       "\n",
       "Name                                                The Man Who Ate Everything  \\\n",
       "Name                                                                             \n",
       "Orange Pear Apple Bear                                                0.030550   \n",
       "Nobody's Angel                                                        0.029033   \n",
       "Stupid History: Tales of Stupidity, Strangeness...                    0.027882   \n",
       "Give and Take                                                         0.048568   \n",
       "The House of the Vestals (Roma Sub Rosa, #6)                          0.000000   \n",
       "\n",
       "Name                                                Nobody's Fool  \\\n",
       "Name                                                                \n",
       "Orange Pear Apple Bear                                   0.000000   \n",
       "Nobody's Angel                                           0.032990   \n",
       "Stupid History: Tales of Stupidity, Strangeness...       0.031464   \n",
       "Give and Take                                            0.002576   \n",
       "The House of the Vestals (Roma Sub Rosa, #6)             0.018492   \n",
       "\n",
       "Name                                                Volcano: A Memoir of Hawai'i  \n",
       "Name                                                                              \n",
       "Orange Pear Apple Bear                                                  0.000000  \n",
       "Nobody's Angel                                                          0.012218  \n",
       "Stupid History: Tales of Stupidity, Strangeness...                      0.000000  \n",
       "Give and Take                                                           0.000000  \n",
       "The House of the Vestals (Roma Sub Rosa, #6)                            0.022972  \n",
       "\n",
       "[5 rows x 543 columns]"
      ]
     },
     "execution_count": 209,
     "metadata": {},
     "output_type": "execute_result"
    }
   ],
   "source": [
    "description_matrix.head()"
   ]
  },
  {
   "cell_type": "code",
   "execution_count": 236,
   "id": "1edaa1f8",
   "metadata": {},
   "outputs": [],
   "source": [
    "def description_recommendations(book_title, similarity_matrix, num_recommendations=5):\n",
    "    # Searching for corresponding similarity scores\n",
    "    book_similarity_scores = description_matrix[book_title]\n",
    "    # Sorting similarity scores\n",
    "    similar_books_indices = book_similarity_scores.argsort()[::-1][1:5+1]\n",
    "    similar_books_titles = df_train_set.iloc[similar_books_indices]['Name'].tolist()\n",
    "    # Printing top 5 similar books\n",
    "    for i in range(len(similar_books_titles)):\n",
    "        print(f\"Book {i+1}: {similar_books_titles[i]} - Similarity score: {book_similarity_scores[similar_books_titles[i]]:.2f}\")"
   ]
  },
  {
   "cell_type": "code",
   "execution_count": 237,
   "id": "9026b7f3",
   "metadata": {},
   "outputs": [
    {
     "name": "stdout",
     "output_type": "stream",
     "text": [
      "Book 1: The Venus Throw (Roma Sub Rosa, #4) - Similarity score: 0.32\n",
      "Book 2: A Murder on the Appian Way (Roma Sub Rosa, #5) - Similarity score: 0.26\n",
      "Book 3: Vox - Similarity score: 0.10\n",
      "Book 4: The Return of Rafe MacKade (The MacKade Brothers, #1) - Similarity score: 0.09\n",
      "Book 5: The Satyricon - Similarity score: 0.07\n"
     ]
    }
   ],
   "source": [
    "description_recommendations(\"The House of the Vestals (Roma Sub Rosa, #6)\", description_matrix)"
   ]
  },
  {
   "cell_type": "markdown",
   "id": "4a0612a7",
   "metadata": {},
   "source": [
    "# Rating Model (Tereza)"
   ]
  },
  {
   "cell_type": "markdown",
   "id": "cd7fad07",
   "metadata": {},
   "source": [
    "Model 2: Calculation of similarity scores for “book rating” feature + implementing number of “written reviews” feature as weight to the vectors"
   ]
  },
  {
   "cell_type": "code",
   "execution_count": 110,
   "id": "20b5024e",
   "metadata": {},
   "outputs": [],
   "source": [
    "from sklearn.metrics.pairwise import cosine_similarity"
   ]
  },
  {
   "cell_type": "markdown",
   "id": "ad90f290",
   "metadata": {},
   "source": [
    "This function calculates the cosine similarity matrix between books based on their ratings.\n",
    "It first converts the textual ratings ('amazing', 'really liked it', etc.) to numeric values (1-5).\n",
    "Then it creates a pivot table with users as rows and books as columns, filling missing values with 0.\n",
    "Finally, it calculates the cosine similarity between the transpose of the ratings matrix and returns the similarity matrix."
   ]
  },
  {
   "cell_type": "code",
   "execution_count": 111,
   "id": "a320e339",
   "metadata": {},
   "outputs": [],
   "source": [
    "# Calculate cosine similarity between book ratings\n",
    "def calculate_similarity(merged_df):\n",
    "    # Convert rating strings to numeric values\n",
    "    merged_df['Rating_numeric'] = merged_df['Processed_Rating'].apply(lambda x: 5 if 'amazing' in x else (4 if 'really, liked' in x else (3 if 'liked' in x else (2 if 'ok' in x else 1))))\n",
    "    # Calculate cosine similarity matrix\n",
    "    ratings_matrix = merged_df.pivot_table(index='userID', columns='bookID', values='Rating_numeric').fillna(0)\n",
    "    similarity_matrix = cosine_similarity(ratings_matrix.T)\n",
    "    return similarity_matrix\n"
   ]
  },
  {
   "cell_type": "markdown",
   "id": "c4df952a",
   "metadata": {},
   "source": [
    "This function calculates weighted similarity scores based on the number of written reviews for each book.\n",
    "It first calculates the total number of written reviews for each book.\n",
    "Then it normalizes the number of written reviews to a range between 0 and 1.\n",
    "Finally, it applies these weights to the similarity matrix and returns the weighted similarity matrix.\n"
   ]
  },
  {
   "cell_type": "code",
   "execution_count": 112,
   "id": "f1605669",
   "metadata": {},
   "outputs": [],
   "source": [
    "# Weighted similarity scores based on number of written reviews\n",
    "def calculate_weighted_similarity(similarity_matrix, merged_df):\n",
    "    # Get number of written reviews for each book\n",
    "    written_reviews = merged_df.groupby('bookID')['CountsOfReview'].sum()\n",
    "    # Normalize written reviews\n",
    "    max_reviews = written_reviews.max()\n",
    "    written_reviews_norm = written_reviews / max_reviews\n",
    "    # Apply weights to similarity matrix\n",
    "    weighted_similarity_matrix = similarity_matrix * written_reviews_norm.values.reshape(-1, 1)\n",
    "    return weighted_similarity_matrix"
   ]
  },
  {
   "cell_type": "code",
   "execution_count": 113,
   "id": "951e7322",
   "metadata": {},
   "outputs": [],
   "source": [
    "# Calculate similarity matrix\n",
    "similarity_matrix = calculate_similarity(df_train_set)\n",
    "\n",
    "# Calculate weighted similarity matrix\n",
    "weighted_similarity_matrix = calculate_weighted_similarity(similarity_matrix, df_train_set)"
   ]
  },
  {
   "cell_type": "markdown",
   "id": "b7ef7fba",
   "metadata": {},
   "source": [
    "Recommend Books"
   ]
  },
  {
   "cell_type": "code",
   "execution_count": 117,
   "id": "41691e81",
   "metadata": {},
   "outputs": [],
   "source": [
    "def recommend_books(book_title, weighted_similarity_matrix, num_recommendations=5):\n",
    "    # Find the index of the given book title\n",
    "    book_index = df_train_set[df_train_set['Name'] == book_title].index[0]\n",
    "    \n",
    "    # Get the similarity scores for the given book\n",
    "    book_similarity_scores = weighted_similarity_matrix[book_index]\n",
    "    \n",
    "    # Sort the similarity scores in descending order and get top N similar books\n",
    "    similar_books_indices = book_similarity_scores.argsort()[::-1][1:num_recommendations+1]\n",
    "    similar_books_titles = df_train_set.iloc[similar_books_indices]['Name'].tolist()\n",
    "    \n",
    "    return similar_books_titles"
   ]
  },
  {
   "cell_type": "code",
   "execution_count": 115,
   "id": "3c07b519",
   "metadata": {},
   "outputs": [
    {
     "ename": "IndexError",
     "evalue": "index 12788 is out of bounds for axis 0 with size 1467",
     "output_type": "error",
     "traceback": [
      "\u001b[0;31m---------------------------------------------------------------------------\u001b[0m",
      "\u001b[0;31mIndexError\u001b[0m                                Traceback (most recent call last)",
      "\u001b[0;32m/var/folders/sl/3rwcc_wn1bsggb47x0csm0tm0000gn/T/ipykernel_66220/4167794684.py\u001b[0m in \u001b[0;36m<module>\u001b[0;34m\u001b[0m\n\u001b[1;32m      1\u001b[0m \u001b[0;31m# Example: Recommend 5 books similar to \"A Short History of Nearly Everything\"\u001b[0m\u001b[0;34m\u001b[0m\u001b[0;34m\u001b[0m\u001b[0m\n\u001b[0;32m----> 2\u001b[0;31m \u001b[0mrecommendations\u001b[0m \u001b[0;34m=\u001b[0m \u001b[0mrecommend_books\u001b[0m\u001b[0;34m(\u001b[0m\u001b[0;34m\"A Short History of Nearly Everything\"\u001b[0m\u001b[0;34m,\u001b[0m \u001b[0mweighted_similarity_matrix\u001b[0m\u001b[0;34m)\u001b[0m\u001b[0;34m\u001b[0m\u001b[0;34m\u001b[0m\u001b[0m\n\u001b[0m\u001b[1;32m      3\u001b[0m \u001b[0mprint\u001b[0m\u001b[0;34m(\u001b[0m\u001b[0;34m\"Recommended Books:\"\u001b[0m\u001b[0;34m)\u001b[0m\u001b[0;34m\u001b[0m\u001b[0;34m\u001b[0m\u001b[0m\n\u001b[1;32m      4\u001b[0m \u001b[0;32mfor\u001b[0m \u001b[0mi\u001b[0m\u001b[0;34m,\u001b[0m \u001b[0mbook\u001b[0m \u001b[0;32min\u001b[0m \u001b[0menumerate\u001b[0m\u001b[0;34m(\u001b[0m\u001b[0mrecommendations\u001b[0m\u001b[0;34m,\u001b[0m \u001b[0;36m1\u001b[0m\u001b[0;34m)\u001b[0m\u001b[0;34m:\u001b[0m\u001b[0;34m\u001b[0m\u001b[0;34m\u001b[0m\u001b[0m\n\u001b[1;32m      5\u001b[0m     \u001b[0mprint\u001b[0m\u001b[0;34m(\u001b[0m\u001b[0;34mf\"{i}. {book}\"\u001b[0m\u001b[0;34m)\u001b[0m\u001b[0;34m\u001b[0m\u001b[0;34m\u001b[0m\u001b[0m\n",
      "\u001b[0;32m/var/folders/sl/3rwcc_wn1bsggb47x0csm0tm0000gn/T/ipykernel_66220/2449287938.py\u001b[0m in \u001b[0;36mrecommend_books\u001b[0;34m(book_title, weighted_similarity_matrix, num_recommendations)\u001b[0m\n\u001b[1;32m      4\u001b[0m \u001b[0;34m\u001b[0m\u001b[0m\n\u001b[1;32m      5\u001b[0m     \u001b[0;31m# Get the similarity scores for the given book\u001b[0m\u001b[0;34m\u001b[0m\u001b[0;34m\u001b[0m\u001b[0m\n\u001b[0;32m----> 6\u001b[0;31m     \u001b[0mbook_similarity_scores\u001b[0m \u001b[0;34m=\u001b[0m \u001b[0mweighted_similarity_matrix\u001b[0m\u001b[0;34m[\u001b[0m\u001b[0mbook_index\u001b[0m\u001b[0;34m]\u001b[0m\u001b[0;34m\u001b[0m\u001b[0;34m\u001b[0m\u001b[0m\n\u001b[0m\u001b[1;32m      7\u001b[0m \u001b[0;34m\u001b[0m\u001b[0m\n\u001b[1;32m      8\u001b[0m     \u001b[0;31m# Sort the similarity scores in descending order and get top N similar books\u001b[0m\u001b[0;34m\u001b[0m\u001b[0;34m\u001b[0m\u001b[0m\n",
      "\u001b[0;31mIndexError\u001b[0m: index 12788 is out of bounds for axis 0 with size 1467"
     ]
    }
   ],
   "source": [
    "# Example: Recommend 5 books similar to \"A Short History of Nearly Everything\"\n",
    "recommendations = recommend_books(\"A Short History of Nearly Everything\", weighted_similarity_matrix)\n",
    "print(\"Recommended Books:\")\n",
    "for i, book in enumerate(recommendations, 1):\n",
    "    print(f\"{i}. {book}\")"
   ]
  },
  {
   "cell_type": "markdown",
   "id": "fda8ab0c",
   "metadata": {},
   "source": [
    "References used:\n",
    "\n",
    "https://www.kaggle.com/code/olih1029/book-rating \n",
    "\n",
    "https://www.kaggle.com/code/klaragerlei/book-recommendations-from-movies\n",
    "\n",
    "https://www.kaggle.com/code/donkratas/best-book-of-every-year"
   ]
  },
  {
   "cell_type": "code",
   "execution_count": 118,
   "id": "5e8e1676",
   "metadata": {},
   "outputs": [
    {
     "ename": "KeyError",
     "evalue": "12777",
     "output_type": "error",
     "traceback": [
      "\u001b[0;31m---------------------------------------------------------------------------\u001b[0m",
      "\u001b[0;31mKeyError\u001b[0m                                  Traceback (most recent call last)",
      "\u001b[0;32m~/opt/anaconda3/lib/python3.9/site-packages/pandas/core/indexes/base.py\u001b[0m in \u001b[0;36mget_loc\u001b[0;34m(self, key, method, tolerance)\u001b[0m\n\u001b[1;32m   3628\u001b[0m             \u001b[0;32mtry\u001b[0m\u001b[0;34m:\u001b[0m\u001b[0;34m\u001b[0m\u001b[0;34m\u001b[0m\u001b[0m\n\u001b[0;32m-> 3629\u001b[0;31m                 \u001b[0;32mreturn\u001b[0m \u001b[0mself\u001b[0m\u001b[0;34m.\u001b[0m\u001b[0m_engine\u001b[0m\u001b[0;34m.\u001b[0m\u001b[0mget_loc\u001b[0m\u001b[0;34m(\u001b[0m\u001b[0mcasted_key\u001b[0m\u001b[0;34m)\u001b[0m\u001b[0;34m\u001b[0m\u001b[0;34m\u001b[0m\u001b[0m\n\u001b[0m\u001b[1;32m   3630\u001b[0m             \u001b[0;32mexcept\u001b[0m \u001b[0mKeyError\u001b[0m \u001b[0;32mas\u001b[0m \u001b[0merr\u001b[0m\u001b[0;34m:\u001b[0m\u001b[0;34m\u001b[0m\u001b[0;34m\u001b[0m\u001b[0m\n",
      "\u001b[0;32m~/opt/anaconda3/lib/python3.9/site-packages/pandas/_libs/index.pyx\u001b[0m in \u001b[0;36mpandas._libs.index.IndexEngine.get_loc\u001b[0;34m()\u001b[0m\n",
      "\u001b[0;32m~/opt/anaconda3/lib/python3.9/site-packages/pandas/_libs/index.pyx\u001b[0m in \u001b[0;36mpandas._libs.index.IndexEngine.get_loc\u001b[0;34m()\u001b[0m\n",
      "\u001b[0;32mpandas/_libs/hashtable_class_helper.pxi\u001b[0m in \u001b[0;36mpandas._libs.hashtable.PyObjectHashTable.get_item\u001b[0;34m()\u001b[0m\n",
      "\u001b[0;32mpandas/_libs/hashtable_class_helper.pxi\u001b[0m in \u001b[0;36mpandas._libs.hashtable.PyObjectHashTable.get_item\u001b[0;34m()\u001b[0m\n",
      "\u001b[0;31mKeyError\u001b[0m: 12777",
      "\nThe above exception was the direct cause of the following exception:\n",
      "\u001b[0;31mKeyError\u001b[0m                                  Traceback (most recent call last)",
      "\u001b[0;32m/var/folders/sl/3rwcc_wn1bsggb47x0csm0tm0000gn/T/ipykernel_67452/2041874178.py\u001b[0m in \u001b[0;36m<module>\u001b[0;34m\u001b[0m\n\u001b[0;32m----> 1\u001b[0;31m \u001b[0mrecommend_books\u001b[0m\u001b[0;34m(\u001b[0m\u001b[0;34m\"A Short History of Nearly Everything\"\u001b[0m\u001b[0;34m,\u001b[0m \u001b[0mdescription_matrix\u001b[0m\u001b[0;34m)\u001b[0m\u001b[0;34m\u001b[0m\u001b[0;34m\u001b[0m\u001b[0m\n\u001b[0m",
      "\u001b[0;32m/var/folders/sl/3rwcc_wn1bsggb47x0csm0tm0000gn/T/ipykernel_67452/2449287938.py\u001b[0m in \u001b[0;36mrecommend_books\u001b[0;34m(book_title, weighted_similarity_matrix, num_recommendations)\u001b[0m\n\u001b[1;32m      4\u001b[0m \u001b[0;34m\u001b[0m\u001b[0m\n\u001b[1;32m      5\u001b[0m     \u001b[0;31m# Get the similarity scores for the given book\u001b[0m\u001b[0;34m\u001b[0m\u001b[0;34m\u001b[0m\u001b[0m\n\u001b[0;32m----> 6\u001b[0;31m     \u001b[0mbook_similarity_scores\u001b[0m \u001b[0;34m=\u001b[0m \u001b[0mweighted_similarity_matrix\u001b[0m\u001b[0;34m[\u001b[0m\u001b[0mbook_index\u001b[0m\u001b[0;34m]\u001b[0m\u001b[0;34m\u001b[0m\u001b[0;34m\u001b[0m\u001b[0m\n\u001b[0m\u001b[1;32m      7\u001b[0m \u001b[0;34m\u001b[0m\u001b[0m\n\u001b[1;32m      8\u001b[0m     \u001b[0;31m# Sort the similarity scores in descending order and get top N similar books\u001b[0m\u001b[0;34m\u001b[0m\u001b[0;34m\u001b[0m\u001b[0m\n",
      "\u001b[0;32m~/opt/anaconda3/lib/python3.9/site-packages/pandas/core/frame.py\u001b[0m in \u001b[0;36m__getitem__\u001b[0;34m(self, key)\u001b[0m\n\u001b[1;32m   3503\u001b[0m             \u001b[0;32mif\u001b[0m \u001b[0mself\u001b[0m\u001b[0;34m.\u001b[0m\u001b[0mcolumns\u001b[0m\u001b[0;34m.\u001b[0m\u001b[0mnlevels\u001b[0m \u001b[0;34m>\u001b[0m \u001b[0;36m1\u001b[0m\u001b[0;34m:\u001b[0m\u001b[0;34m\u001b[0m\u001b[0;34m\u001b[0m\u001b[0m\n\u001b[1;32m   3504\u001b[0m                 \u001b[0;32mreturn\u001b[0m \u001b[0mself\u001b[0m\u001b[0;34m.\u001b[0m\u001b[0m_getitem_multilevel\u001b[0m\u001b[0;34m(\u001b[0m\u001b[0mkey\u001b[0m\u001b[0;34m)\u001b[0m\u001b[0;34m\u001b[0m\u001b[0;34m\u001b[0m\u001b[0m\n\u001b[0;32m-> 3505\u001b[0;31m             \u001b[0mindexer\u001b[0m \u001b[0;34m=\u001b[0m \u001b[0mself\u001b[0m\u001b[0;34m.\u001b[0m\u001b[0mcolumns\u001b[0m\u001b[0;34m.\u001b[0m\u001b[0mget_loc\u001b[0m\u001b[0;34m(\u001b[0m\u001b[0mkey\u001b[0m\u001b[0;34m)\u001b[0m\u001b[0;34m\u001b[0m\u001b[0;34m\u001b[0m\u001b[0m\n\u001b[0m\u001b[1;32m   3506\u001b[0m             \u001b[0;32mif\u001b[0m \u001b[0mis_integer\u001b[0m\u001b[0;34m(\u001b[0m\u001b[0mindexer\u001b[0m\u001b[0;34m)\u001b[0m\u001b[0;34m:\u001b[0m\u001b[0;34m\u001b[0m\u001b[0;34m\u001b[0m\u001b[0m\n\u001b[1;32m   3507\u001b[0m                 \u001b[0mindexer\u001b[0m \u001b[0;34m=\u001b[0m \u001b[0;34m[\u001b[0m\u001b[0mindexer\u001b[0m\u001b[0;34m]\u001b[0m\u001b[0;34m\u001b[0m\u001b[0;34m\u001b[0m\u001b[0m\n",
      "\u001b[0;32m~/opt/anaconda3/lib/python3.9/site-packages/pandas/core/indexes/base.py\u001b[0m in \u001b[0;36mget_loc\u001b[0;34m(self, key, method, tolerance)\u001b[0m\n\u001b[1;32m   3629\u001b[0m                 \u001b[0;32mreturn\u001b[0m \u001b[0mself\u001b[0m\u001b[0;34m.\u001b[0m\u001b[0m_engine\u001b[0m\u001b[0;34m.\u001b[0m\u001b[0mget_loc\u001b[0m\u001b[0;34m(\u001b[0m\u001b[0mcasted_key\u001b[0m\u001b[0;34m)\u001b[0m\u001b[0;34m\u001b[0m\u001b[0;34m\u001b[0m\u001b[0m\n\u001b[1;32m   3630\u001b[0m             \u001b[0;32mexcept\u001b[0m \u001b[0mKeyError\u001b[0m \u001b[0;32mas\u001b[0m \u001b[0merr\u001b[0m\u001b[0;34m:\u001b[0m\u001b[0;34m\u001b[0m\u001b[0;34m\u001b[0m\u001b[0m\n\u001b[0;32m-> 3631\u001b[0;31m                 \u001b[0;32mraise\u001b[0m \u001b[0mKeyError\u001b[0m\u001b[0;34m(\u001b[0m\u001b[0mkey\u001b[0m\u001b[0;34m)\u001b[0m \u001b[0;32mfrom\u001b[0m \u001b[0merr\u001b[0m\u001b[0;34m\u001b[0m\u001b[0;34m\u001b[0m\u001b[0m\n\u001b[0m\u001b[1;32m   3632\u001b[0m             \u001b[0;32mexcept\u001b[0m \u001b[0mTypeError\u001b[0m\u001b[0;34m:\u001b[0m\u001b[0;34m\u001b[0m\u001b[0;34m\u001b[0m\u001b[0m\n\u001b[1;32m   3633\u001b[0m                 \u001b[0;31m# If we have a listlike key, _check_indexing_error will raise\u001b[0m\u001b[0;34m\u001b[0m\u001b[0;34m\u001b[0m\u001b[0m\n",
      "\u001b[0;31mKeyError\u001b[0m: 12777"
     ]
    }
   ],
   "source": [
    "recommend_books(\"A Short History of Nearly Everything\", description_matrix)"
   ]
  },
  {
   "cell_type": "code",
   "execution_count": null,
   "id": "c4b5e07a",
   "metadata": {},
   "outputs": [],
   "source": []
  }
 ],
 "metadata": {
  "kernelspec": {
   "display_name": "Python 3 (ipykernel)",
   "language": "python",
   "name": "python3"
  },
  "language_info": {
   "codemirror_mode": {
    "name": "ipython",
    "version": 3
   },
   "file_extension": ".py",
   "mimetype": "text/x-python",
   "name": "python",
   "nbconvert_exporter": "python",
   "pygments_lexer": "ipython3",
   "version": "3.9.13"
  }
 },
 "nbformat": 4,
 "nbformat_minor": 5
}
