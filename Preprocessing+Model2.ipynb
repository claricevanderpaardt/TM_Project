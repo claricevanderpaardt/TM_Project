{
 "cells": [
  {
   "cell_type": "code",
   "execution_count": 1,
   "id": "0f981cc4",
   "metadata": {},
   "outputs": [],
   "source": [
    "import pandas as pd\n",
    "import nltk\n",
    "from nltk.tokenize import word_tokenize\n",
    "from nltk.corpus import stopwords\n",
    "from nltk.stem import WordNetLemmatizer\n",
    "from sklearn.model_selection import train_test_split"
   ]
  },
  {
   "cell_type": "code",
   "execution_count": 2,
   "id": "39674501",
   "metadata": {},
   "outputs": [
    {
     "data": {
      "text/html": [
       "<div>\n",
       "<style scoped>\n",
       "    .dataframe tbody tr th:only-of-type {\n",
       "        vertical-align: middle;\n",
       "    }\n",
       "\n",
       "    .dataframe tbody tr th {\n",
       "        vertical-align: top;\n",
       "    }\n",
       "\n",
       "    .dataframe thead th {\n",
       "        text-align: right;\n",
       "    }\n",
       "</style>\n",
       "<table border=\"1\" class=\"dataframe\">\n",
       "  <thead>\n",
       "    <tr style=\"text-align: right;\">\n",
       "      <th></th>\n",
       "      <th>Id</th>\n",
       "      <th>Name</th>\n",
       "      <th>RatingDist1</th>\n",
       "      <th>pagesNumber</th>\n",
       "      <th>RatingDist4</th>\n",
       "      <th>RatingDistTotal</th>\n",
       "      <th>PublishMonth</th>\n",
       "      <th>PublishDay</th>\n",
       "      <th>Publisher</th>\n",
       "      <th>CountsOfReview</th>\n",
       "      <th>PublishYear</th>\n",
       "      <th>Language</th>\n",
       "      <th>Authors</th>\n",
       "      <th>Rating</th>\n",
       "      <th>RatingDist2</th>\n",
       "      <th>RatingDist5</th>\n",
       "      <th>ISBN</th>\n",
       "      <th>RatingDist3</th>\n",
       "    </tr>\n",
       "  </thead>\n",
       "  <tbody>\n",
       "    <tr>\n",
       "      <th>0</th>\n",
       "      <td>1</td>\n",
       "      <td>Harry Potter and the Half-Blood Prince (Harry ...</td>\n",
       "      <td>6.913888889</td>\n",
       "      <td>652</td>\n",
       "      <td>4:556485</td>\n",
       "      <td>total:2298124</td>\n",
       "      <td>16</td>\n",
       "      <td>9</td>\n",
       "      <td>Scholastic Inc.</td>\n",
       "      <td>28062</td>\n",
       "      <td>2006</td>\n",
       "      <td>eng</td>\n",
       "      <td>J.K. Rowling</td>\n",
       "      <td>4.57</td>\n",
       "      <td>2:25317</td>\n",
       "      <td>5:1546466</td>\n",
       "      <td>NaN</td>\n",
       "      <td>3:159960</td>\n",
       "    </tr>\n",
       "    <tr>\n",
       "      <th>1</th>\n",
       "      <td>2</td>\n",
       "      <td>Harry Potter and the Order of the Phoenix (Har...</td>\n",
       "      <td>1:12455</td>\n",
       "      <td>870</td>\n",
       "      <td>4:604283</td>\n",
       "      <td>total:2358637</td>\n",
       "      <td>1</td>\n",
       "      <td>9</td>\n",
       "      <td>Scholastic Inc.</td>\n",
       "      <td>29770</td>\n",
       "      <td>2004</td>\n",
       "      <td>eng</td>\n",
       "      <td>J.K. Rowling</td>\n",
       "      <td>4.50</td>\n",
       "      <td>2:37005</td>\n",
       "      <td>5:1493113</td>\n",
       "      <td>439358078</td>\n",
       "      <td>3:211781</td>\n",
       "    </tr>\n",
       "    <tr>\n",
       "      <th>2</th>\n",
       "      <td>3</td>\n",
       "      <td>Harry Potter and the Sorcerer's Stone (Harry P...</td>\n",
       "      <td>1:108202</td>\n",
       "      <td>309</td>\n",
       "      <td>4:1513191</td>\n",
       "      <td>total:6587388</td>\n",
       "      <td>1</td>\n",
       "      <td>11</td>\n",
       "      <td>Scholastic Inc</td>\n",
       "      <td>75911</td>\n",
       "      <td>2003</td>\n",
       "      <td>eng</td>\n",
       "      <td>J.K. Rowling</td>\n",
       "      <td>4.47</td>\n",
       "      <td>2:130310</td>\n",
       "      <td>5:4268227</td>\n",
       "      <td>NaN</td>\n",
       "      <td>3:567458</td>\n",
       "    </tr>\n",
       "    <tr>\n",
       "      <th>3</th>\n",
       "      <td>4</td>\n",
       "      <td>Harry Potter and the Chamber of Secrets (Harry...</td>\n",
       "      <td>1:11896</td>\n",
       "      <td>352</td>\n",
       "      <td>4:706082</td>\n",
       "      <td>total:2560657</td>\n",
       "      <td>1</td>\n",
       "      <td>11</td>\n",
       "      <td>Scholastic</td>\n",
       "      <td>244</td>\n",
       "      <td>2003</td>\n",
       "      <td>eng</td>\n",
       "      <td>J.K. Rowling</td>\n",
       "      <td>4.42</td>\n",
       "      <td>2:49353</td>\n",
       "      <td>5:1504505</td>\n",
       "      <td>439554896</td>\n",
       "      <td>3:288821</td>\n",
       "    </tr>\n",
       "    <tr>\n",
       "      <th>4</th>\n",
       "      <td>5</td>\n",
       "      <td>Harry Potter and the Prisoner of Azkaban (Harr...</td>\n",
       "      <td>1:10128</td>\n",
       "      <td>435</td>\n",
       "      <td>4:630534</td>\n",
       "      <td>total:2610317</td>\n",
       "      <td>1</td>\n",
       "      <td>5</td>\n",
       "      <td>Scholastic Inc.</td>\n",
       "      <td>37093</td>\n",
       "      <td>2004</td>\n",
       "      <td>eng</td>\n",
       "      <td>J.K. Rowling</td>\n",
       "      <td>4.57</td>\n",
       "      <td>2:24849</td>\n",
       "      <td>5:1749958</td>\n",
       "      <td>043965548X</td>\n",
       "      <td>3:194848</td>\n",
       "    </tr>\n",
       "  </tbody>\n",
       "</table>\n",
       "</div>"
      ],
      "text/plain": [
       "   Id                                               Name  RatingDist1  \\\n",
       "0   1  Harry Potter and the Half-Blood Prince (Harry ...  6.913888889   \n",
       "1   2  Harry Potter and the Order of the Phoenix (Har...      1:12455   \n",
       "2   3  Harry Potter and the Sorcerer's Stone (Harry P...     1:108202   \n",
       "3   4  Harry Potter and the Chamber of Secrets (Harry...      1:11896   \n",
       "4   5  Harry Potter and the Prisoner of Azkaban (Harr...      1:10128   \n",
       "\n",
       "   pagesNumber RatingDist4 RatingDistTotal  PublishMonth  PublishDay  \\\n",
       "0          652    4:556485   total:2298124            16           9   \n",
       "1          870    4:604283   total:2358637             1           9   \n",
       "2          309   4:1513191   total:6587388             1          11   \n",
       "3          352    4:706082   total:2560657             1          11   \n",
       "4          435    4:630534   total:2610317             1           5   \n",
       "\n",
       "         Publisher  CountsOfReview  PublishYear Language       Authors  \\\n",
       "0  Scholastic Inc.           28062         2006      eng  J.K. Rowling   \n",
       "1  Scholastic Inc.           29770         2004      eng  J.K. Rowling   \n",
       "2   Scholastic Inc           75911         2003      eng  J.K. Rowling   \n",
       "3       Scholastic             244         2003      eng  J.K. Rowling   \n",
       "4  Scholastic Inc.           37093         2004      eng  J.K. Rowling   \n",
       "\n",
       "   Rating RatingDist2 RatingDist5        ISBN RatingDist3  \n",
       "0    4.57     2:25317   5:1546466         NaN    3:159960  \n",
       "1    4.50     2:37005   5:1493113   439358078    3:211781  \n",
       "2    4.47    2:130310   5:4268227         NaN    3:567458  \n",
       "3    4.42     2:49353   5:1504505   439554896    3:288821  \n",
       "4    4.57     2:24849   5:1749958  043965548X    3:194848  "
      ]
     },
     "execution_count": 2,
     "metadata": {},
     "output_type": "execute_result"
    }
   ],
   "source": [
    "books_df = pd.read_csv('book1-100k.csv', delimiter= \",\")\n",
    "books_df.head()"
   ]
  },
  {
   "cell_type": "code",
   "execution_count": 4,
   "id": "ea70f6b9",
   "metadata": {},
   "outputs": [
    {
     "data": {
      "text/html": [
       "<div>\n",
       "<style scoped>\n",
       "    .dataframe tbody tr th:only-of-type {\n",
       "        vertical-align: middle;\n",
       "    }\n",
       "\n",
       "    .dataframe tbody tr th {\n",
       "        vertical-align: top;\n",
       "    }\n",
       "\n",
       "    .dataframe thead th {\n",
       "        text-align: right;\n",
       "    }\n",
       "</style>\n",
       "<table border=\"1\" class=\"dataframe\">\n",
       "  <thead>\n",
       "    <tr style=\"text-align: right;\">\n",
       "      <th></th>\n",
       "      <th>ID</th>\n",
       "      <th>Name</th>\n",
       "      <th>Rating</th>\n",
       "    </tr>\n",
       "  </thead>\n",
       "  <tbody>\n",
       "    <tr>\n",
       "      <th>0</th>\n",
       "      <td>1</td>\n",
       "      <td>Agile Web Development with Rails: A Pragmatic ...</td>\n",
       "      <td>it was amazing</td>\n",
       "    </tr>\n",
       "    <tr>\n",
       "      <th>1</th>\n",
       "      <td>1</td>\n",
       "      <td>The Restaurant at the End of the Universe (Hit...</td>\n",
       "      <td>it was amazing</td>\n",
       "    </tr>\n",
       "    <tr>\n",
       "      <th>2</th>\n",
       "      <td>1</td>\n",
       "      <td>Siddhartha</td>\n",
       "      <td>it was amazing</td>\n",
       "    </tr>\n",
       "    <tr>\n",
       "      <th>3</th>\n",
       "      <td>1</td>\n",
       "      <td>The Clock of the Long Now: Time and Responsibi...</td>\n",
       "      <td>really liked it</td>\n",
       "    </tr>\n",
       "    <tr>\n",
       "      <th>4</th>\n",
       "      <td>1</td>\n",
       "      <td>Ready Player One (Ready Player One, #1)</td>\n",
       "      <td>really liked it</td>\n",
       "    </tr>\n",
       "  </tbody>\n",
       "</table>\n",
       "</div>"
      ],
      "text/plain": [
       "   ID                                               Name           Rating\n",
       "0   1  Agile Web Development with Rails: A Pragmatic ...   it was amazing\n",
       "1   1  The Restaurant at the End of the Universe (Hit...   it was amazing\n",
       "2   1                                         Siddhartha   it was amazing\n",
       "3   1  The Clock of the Long Now: Time and Responsibi...  really liked it\n",
       "4   1            Ready Player One (Ready Player One, #1)  really liked it"
      ]
     },
     "execution_count": 4,
     "metadata": {},
     "output_type": "execute_result"
    }
   ],
   "source": [
    "ratings_df = pd.read_csv('user_rating_0_to_1000.csv', delimiter= \",\")\n",
    "ratings_df.head()"
   ]
  },
  {
   "cell_type": "code",
   "execution_count": 5,
   "id": "6b57afad",
   "metadata": {},
   "outputs": [
    {
     "data": {
      "text/plain": [
       "Index(['Id', 'Name', 'RatingDist1', 'pagesNumber', 'RatingDist4',\n",
       "       'RatingDistTotal', 'PublishMonth', 'PublishDay', 'Publisher',\n",
       "       'CountsOfReview', 'PublishYear', 'Language', 'Authors', 'Rating',\n",
       "       'RatingDist2', 'RatingDist5', 'ISBN', 'RatingDist3'],\n",
       "      dtype='object')"
      ]
     },
     "execution_count": 5,
     "metadata": {},
     "output_type": "execute_result"
    }
   ],
   "source": [
    "books_df.columns"
   ]
  },
  {
   "cell_type": "code",
   "execution_count": 6,
   "id": "b6fdbb89",
   "metadata": {},
   "outputs": [
    {
     "data": {
      "text/html": [
       "<div>\n",
       "<style scoped>\n",
       "    .dataframe tbody tr th:only-of-type {\n",
       "        vertical-align: middle;\n",
       "    }\n",
       "\n",
       "    .dataframe tbody tr th {\n",
       "        vertical-align: top;\n",
       "    }\n",
       "\n",
       "    .dataframe thead th {\n",
       "        text-align: right;\n",
       "    }\n",
       "</style>\n",
       "<table border=\"1\" class=\"dataframe\">\n",
       "  <thead>\n",
       "    <tr style=\"text-align: right;\">\n",
       "      <th></th>\n",
       "      <th>Id</th>\n",
       "      <th>Name</th>\n",
       "      <th>RatingDist1</th>\n",
       "      <th>pagesNumber</th>\n",
       "      <th>RatingDist4</th>\n",
       "      <th>RatingDistTotal</th>\n",
       "      <th>PublishMonth</th>\n",
       "      <th>PublishDay</th>\n",
       "      <th>Publisher</th>\n",
       "      <th>CountsOfReview</th>\n",
       "      <th>PublishYear</th>\n",
       "      <th>Language</th>\n",
       "      <th>Authors</th>\n",
       "      <th>Rating_x</th>\n",
       "      <th>RatingDist2</th>\n",
       "      <th>RatingDist5</th>\n",
       "      <th>ISBN</th>\n",
       "      <th>RatingDist3</th>\n",
       "      <th>ID</th>\n",
       "      <th>Rating_y</th>\n",
       "    </tr>\n",
       "  </thead>\n",
       "  <tbody>\n",
       "    <tr>\n",
       "      <th>0</th>\n",
       "      <td>18</td>\n",
       "      <td>The Ultimate Hitchhiker's Guide (Hitchhiker's ...</td>\n",
       "      <td>2.432638889</td>\n",
       "      <td>815</td>\n",
       "      <td>4:75683</td>\n",
       "      <td>total:274268</td>\n",
       "      <td>17</td>\n",
       "      <td>1</td>\n",
       "      <td>Wings Books</td>\n",
       "      <td>194</td>\n",
       "      <td>1996</td>\n",
       "      <td>eng</td>\n",
       "      <td>Douglas Adams</td>\n",
       "      <td>4.37</td>\n",
       "      <td>5.370138889</td>\n",
       "      <td>5:157499</td>\n",
       "      <td>517149257</td>\n",
       "      <td>3:30030</td>\n",
       "      <td>332</td>\n",
       "      <td>it was amazing</td>\n",
       "    </tr>\n",
       "    <tr>\n",
       "      <th>1</th>\n",
       "      <td>21</td>\n",
       "      <td>A Short History of Nearly Everything</td>\n",
       "      <td>3.611111111</td>\n",
       "      <td>544</td>\n",
       "      <td>4:94040</td>\n",
       "      <td>total:276166</td>\n",
       "      <td>14</td>\n",
       "      <td>9</td>\n",
       "      <td>Broadway Books</td>\n",
       "      <td>9545</td>\n",
       "      <td>2004</td>\n",
       "      <td>eng</td>\n",
       "      <td>Bill Bryson</td>\n",
       "      <td>4.21</td>\n",
       "      <td>6.588194444</td>\n",
       "      <td>5:129555</td>\n",
       "      <td>076790818X</td>\n",
       "      <td>3:38064</td>\n",
       "      <td>1</td>\n",
       "      <td>it was amazing</td>\n",
       "    </tr>\n",
       "    <tr>\n",
       "      <th>2</th>\n",
       "      <td>21</td>\n",
       "      <td>A Short History of Nearly Everything</td>\n",
       "      <td>3.611111111</td>\n",
       "      <td>544</td>\n",
       "      <td>4:94040</td>\n",
       "      <td>total:276166</td>\n",
       "      <td>14</td>\n",
       "      <td>9</td>\n",
       "      <td>Broadway Books</td>\n",
       "      <td>9545</td>\n",
       "      <td>2004</td>\n",
       "      <td>eng</td>\n",
       "      <td>Bill Bryson</td>\n",
       "      <td>4.21</td>\n",
       "      <td>6.588194444</td>\n",
       "      <td>5:129555</td>\n",
       "      <td>076790818X</td>\n",
       "      <td>3:38064</td>\n",
       "      <td>18</td>\n",
       "      <td>it was ok</td>\n",
       "    </tr>\n",
       "    <tr>\n",
       "      <th>3</th>\n",
       "      <td>21</td>\n",
       "      <td>A Short History of Nearly Everything</td>\n",
       "      <td>3.611111111</td>\n",
       "      <td>544</td>\n",
       "      <td>4:94040</td>\n",
       "      <td>total:276166</td>\n",
       "      <td>14</td>\n",
       "      <td>9</td>\n",
       "      <td>Broadway Books</td>\n",
       "      <td>9545</td>\n",
       "      <td>2004</td>\n",
       "      <td>eng</td>\n",
       "      <td>Bill Bryson</td>\n",
       "      <td>4.21</td>\n",
       "      <td>6.588194444</td>\n",
       "      <td>5:129555</td>\n",
       "      <td>076790818X</td>\n",
       "      <td>3:38064</td>\n",
       "      <td>56</td>\n",
       "      <td>liked it</td>\n",
       "    </tr>\n",
       "    <tr>\n",
       "      <th>4</th>\n",
       "      <td>21</td>\n",
       "      <td>A Short History of Nearly Everything</td>\n",
       "      <td>3.611111111</td>\n",
       "      <td>544</td>\n",
       "      <td>4:94040</td>\n",
       "      <td>total:276166</td>\n",
       "      <td>14</td>\n",
       "      <td>9</td>\n",
       "      <td>Broadway Books</td>\n",
       "      <td>9545</td>\n",
       "      <td>2004</td>\n",
       "      <td>eng</td>\n",
       "      <td>Bill Bryson</td>\n",
       "      <td>4.21</td>\n",
       "      <td>6.588194444</td>\n",
       "      <td>5:129555</td>\n",
       "      <td>076790818X</td>\n",
       "      <td>3:38064</td>\n",
       "      <td>141</td>\n",
       "      <td>really liked it</td>\n",
       "    </tr>\n",
       "  </tbody>\n",
       "</table>\n",
       "</div>"
      ],
      "text/plain": [
       "   Id                                               Name  RatingDist1  \\\n",
       "0  18  The Ultimate Hitchhiker's Guide (Hitchhiker's ...  2.432638889   \n",
       "1  21               A Short History of Nearly Everything  3.611111111   \n",
       "2  21               A Short History of Nearly Everything  3.611111111   \n",
       "3  21               A Short History of Nearly Everything  3.611111111   \n",
       "4  21               A Short History of Nearly Everything  3.611111111   \n",
       "\n",
       "   pagesNumber RatingDist4 RatingDistTotal  PublishMonth  PublishDay  \\\n",
       "0          815     4:75683    total:274268            17           1   \n",
       "1          544     4:94040    total:276166            14           9   \n",
       "2          544     4:94040    total:276166            14           9   \n",
       "3          544     4:94040    total:276166            14           9   \n",
       "4          544     4:94040    total:276166            14           9   \n",
       "\n",
       "        Publisher  CountsOfReview  PublishYear Language        Authors  \\\n",
       "0     Wings Books             194         1996      eng  Douglas Adams   \n",
       "1  Broadway Books            9545         2004      eng    Bill Bryson   \n",
       "2  Broadway Books            9545         2004      eng    Bill Bryson   \n",
       "3  Broadway Books            9545         2004      eng    Bill Bryson   \n",
       "4  Broadway Books            9545         2004      eng    Bill Bryson   \n",
       "\n",
       "   Rating_x  RatingDist2 RatingDist5        ISBN RatingDist3   ID  \\\n",
       "0      4.37  5.370138889    5:157499   517149257     3:30030  332   \n",
       "1      4.21  6.588194444    5:129555  076790818X     3:38064    1   \n",
       "2      4.21  6.588194444    5:129555  076790818X     3:38064   18   \n",
       "3      4.21  6.588194444    5:129555  076790818X     3:38064   56   \n",
       "4      4.21  6.588194444    5:129555  076790818X     3:38064  141   \n",
       "\n",
       "          Rating_y  \n",
       "0   it was amazing  \n",
       "1   it was amazing  \n",
       "2        it was ok  \n",
       "3         liked it  \n",
       "4  really liked it  "
      ]
     },
     "execution_count": 6,
     "metadata": {},
     "output_type": "execute_result"
    }
   ],
   "source": [
    "merged_df = pd.merge(books_df, ratings_df, on='Name')\n",
    "merged_df.head()"
   ]
  },
  {
   "cell_type": "code",
   "execution_count": 7,
   "id": "e638f2b4",
   "metadata": {},
   "outputs": [
    {
     "data": {
      "text/plain": [
       "Index(['Id', 'Name', 'RatingDist1', 'pagesNumber', 'RatingDist4',\n",
       "       'RatingDistTotal', 'PublishMonth', 'PublishDay', 'Publisher',\n",
       "       'CountsOfReview', 'PublishYear', 'Language', 'Authors', 'Rating_x',\n",
       "       'RatingDist2', 'RatingDist5', 'ISBN', 'RatingDist3', 'ID', 'Rating_y'],\n",
       "      dtype='object')"
      ]
     },
     "execution_count": 7,
     "metadata": {},
     "output_type": "execute_result"
    }
   ],
   "source": [
    "merged_df.columns"
   ]
  },
  {
   "cell_type": "code",
   "execution_count": 8,
   "id": "c50b8d26",
   "metadata": {},
   "outputs": [
    {
     "data": {
      "text/plain": [
       "Index(['bookID', 'Name', 'RatingDist1', 'pagesNumber', 'RatingDist4',\n",
       "       'RatingDistTotal', 'PublishMonth', 'PublishDay', 'Publisher',\n",
       "       'CountsOfReview', 'PublishYear', 'Language', 'Authors', 'Rating_x',\n",
       "       'RatingDist2', 'RatingDist5', 'ISBN', 'RatingDist3', 'userID',\n",
       "       'Rating_y'],\n",
       "      dtype='object')"
      ]
     },
     "execution_count": 8,
     "metadata": {},
     "output_type": "execute_result"
    }
   ],
   "source": [
    "# Renaming the IDs for better interpretation of data as one is referring to the book's ID and the other one to the user rating it\n",
    "merged_df.rename(columns={'Id': 'bookID'}, inplace=True)\n",
    "merged_df.rename(columns={'ID': 'userID'}, inplace=True)\n",
    "merged_df.columns"
   ]
  },
  {
   "cell_type": "code",
   "execution_count": 9,
   "id": "331a490b",
   "metadata": {},
   "outputs": [
    {
     "name": "stdout",
     "output_type": "stream",
     "text": [
      "bookID                0\n",
      "Name                  0\n",
      "RatingDist1           0\n",
      "pagesNumber           0\n",
      "RatingDist4           0\n",
      "RatingDistTotal       0\n",
      "PublishMonth          0\n",
      "PublishDay            0\n",
      "Publisher            94\n",
      "CountsOfReview        0\n",
      "PublishYear           0\n",
      "Language           4472\n",
      "Authors               0\n",
      "Rating_x              0\n",
      "RatingDist2           0\n",
      "RatingDist5           0\n",
      "ISBN               1114\n",
      "RatingDist3           0\n",
      "userID                0\n",
      "Rating_y              0\n",
      "dtype: int64\n"
     ]
    }
   ],
   "source": [
    "# Number of missing values per column \n",
    "missing_per_column = merged_df.isnull().sum()\n",
    "print(missing_per_column)"
   ]
  },
  {
   "cell_type": "code",
   "execution_count": 10,
   "id": "099cc1bc",
   "metadata": {},
   "outputs": [],
   "source": [
    "# For ISBN and Publisher we can ignore these missing values as they are not really relevant to our analysis. \n",
    "# Language, however, can be quite important for a book recommendation system, as it directly affects user preferences \n",
    "# and accessibility. \n",
    "\n",
    "# Mode imputation for missing values:\n",
    "mode_language = merged_df['Language'].mode()[0]\n",
    "merged_df['Language'].fillna(mode_language, inplace=True)"
   ]
  },
  {
   "cell_type": "code",
   "execution_count": 11,
   "id": "3a5d02ab",
   "metadata": {},
   "outputs": [],
   "source": [
    "# Tokenizing and lemmatizing columns:\n",
    "def tokenize_and_lemmatize(col):\n",
    "    # ensures col is a string\n",
    "    col = str(col)\n",
    "    # Load English stopwords\n",
    "    stop_words = set(stopwords.words('english'))\n",
    "    # Initialize the Lemmatizer\n",
    "    lemmatizer = WordNetLemmatizer()\n",
    "    # Tokenize the column\n",
    "    tokens = word_tokenize(col.lower())\n",
    "    # Filter out stopwords and non-alphabetic characters\n",
    "    filtered_tokens = [word for word in tokens if word.isalpha() and word not in stop_words]\n",
    "    # Lemmatize each filtered token\n",
    "    lemmatized_tokens = [lemmatizer.lemmatize(word) for word in filtered_tokens]\n",
    "    return lemmatized_tokens"
   ]
  },
  {
   "cell_type": "code",
   "execution_count": 12,
   "id": "883bd843",
   "metadata": {},
   "outputs": [],
   "source": [
    "# Apply the tokenizing and lemmatization function to the \"text\" cols:\n",
    "merged_df['Processed_Name'] = merged_df['Name'].apply(tokenize_and_lemmatize)\n",
    "merged_df['Processed_Authors'] = merged_df['Authors'].apply(tokenize_and_lemmatize)\n",
    "# Not that relevant for our analysis but just in case we use it later on:\n",
    "merged_df['Processed_Publisher'] = merged_df['Publisher'].apply(tokenize_and_lemmatize)\n",
    "merged_df['Processed_Rating'] = merged_df['Rating_y'].apply(tokenize_and_lemmatize)"
   ]
  },
  {
   "cell_type": "code",
   "execution_count": 13,
   "id": "ab8e03e1",
   "metadata": {},
   "outputs": [
    {
     "name": "stdout",
     "output_type": "stream",
     "text": [
      "          Rating_y Processed_Rating\n",
      "0   it was amazing        [amazing]\n",
      "1   it was amazing        [amazing]\n",
      "2        it was ok             [ok]\n",
      "3         liked it          [liked]\n",
      "4  really liked it  [really, liked]\n"
     ]
    }
   ],
   "source": [
    "print(merged_df[['Rating_y', 'Processed_Rating']].head())"
   ]
  },
  {
   "cell_type": "code",
   "execution_count": 14,
   "id": "3aa34110",
   "metadata": {},
   "outputs": [],
   "source": [
    "# Splitting into a training and validation set:\n",
    "df_train_set, df_valid_set = train_test_split(merged_df, test_size=0.2, random_state=42, shuffle=True) # random state for reproducibility"
   ]
  },
  {
   "cell_type": "markdown",
   "id": "cd7fad07",
   "metadata": {},
   "source": [
    "Model 2: Calculation of similarity scores for “book rating” feature + implementing number of “written reviews” feature as weight to the vectors"
   ]
  },
  {
   "cell_type": "code",
   "execution_count": 26,
   "id": "20b5024e",
   "metadata": {},
   "outputs": [],
   "source": [
    "from sklearn.metrics.pairwise import cosine_similarity"
   ]
  },
  {
   "cell_type": "markdown",
   "id": "ad90f290",
   "metadata": {},
   "source": [
    "This function calculates the cosine similarity matrix between books based on their ratings.\n",
    "It first converts the textual ratings ('amazing', 'really liked it', etc.) to numeric values (1-5).\n",
    "Then it creates a pivot table with users as rows and books as columns, filling missing values with 0.\n",
    "Finally, it calculates the cosine similarity between the transpose of the ratings matrix and returns the similarity matrix."
   ]
  },
  {
   "cell_type": "code",
   "execution_count": 27,
   "id": "a320e339",
   "metadata": {},
   "outputs": [],
   "source": [
    "# Calculate cosine similarity between book ratings\n",
    "def calculate_similarity(merged_df):\n",
    "    # Convert rating strings to numeric values\n",
    "    merged_df['Rating_numeric'] = merged_df['Processed_Rating'].apply(lambda x: 5 if 'amazing' in x else (4 if 'really, liked' in x else (3 if 'liked' in x else (2 if 'ok' in x else 1))))\n",
    "    # Calculate cosine similarity matrix\n",
    "    ratings_matrix = merged_df.pivot_table(index='userID', columns='bookID', values='Rating_numeric').fillna(0)\n",
    "    similarity_matrix = cosine_similarity(ratings_matrix.T)\n",
    "    return similarity_matrix\n"
   ]
  },
  {
   "cell_type": "markdown",
   "id": "c4df952a",
   "metadata": {},
   "source": [
    "This function calculates weighted similarity scores based on the number of written reviews for each book.\n",
    "It first calculates the total number of written reviews for each book.\n",
    "Then it normalizes the number of written reviews to a range between 0 and 1.\n",
    "Finally, it applies these weights to the similarity matrix and returns the weighted similarity matrix.\n"
   ]
  },
  {
   "cell_type": "code",
   "execution_count": 28,
   "id": "f1605669",
   "metadata": {},
   "outputs": [],
   "source": [
    "# Weighted similarity scores based on number of written reviews\n",
    "def calculate_weighted_similarity(similarity_matrix, merged_df):\n",
    "    # Get number of written reviews for each book\n",
    "    written_reviews = merged_df.groupby('bookID')['CountsOfReview'].sum()\n",
    "    # Normalize written reviews\n",
    "    max_reviews = written_reviews.max()\n",
    "    written_reviews_norm = written_reviews / max_reviews\n",
    "    # Apply weights to similarity matrix\n",
    "    weighted_similarity_matrix = similarity_matrix * written_reviews_norm.values.reshape(-1, 1)\n",
    "    return weighted_similarity_matrix"
   ]
  },
  {
   "cell_type": "code",
   "execution_count": 29,
   "id": "951e7322",
   "metadata": {},
   "outputs": [],
   "source": [
    "# Calculate similarity matrix\n",
    "similarity_matrix = calculate_similarity(df_train_set)\n",
    "\n",
    "# Calculate weighted similarity matrix\n",
    "weighted_similarity_matrix = calculate_weighted_similarity(similarity_matrix, df_train_set)"
   ]
  },
  {
   "cell_type": "markdown",
   "id": "b7ef7fba",
   "metadata": {},
   "source": [
    "Recommend Books"
   ]
  },
  {
   "cell_type": "code",
   "execution_count": 30,
   "id": "41691e81",
   "metadata": {},
   "outputs": [],
   "source": [
    "def recommend_books(book_title, weighted_similarity_matrix, num_recommendations=5):\n",
    "    # Find the index of the given book title\n",
    "    book_index = df_train_set[df_train_set['Name'] == book_title].index[0]\n",
    "    \n",
    "    # Get the similarity scores for the given book\n",
    "    book_similarity_scores = weighted_similarity_matrix[book_index]\n",
    "    \n",
    "    # Sort the similarity scores in descending order and get top N similar books\n",
    "    similar_books_indices = book_similarity_scores.argsort()[::-1][1:num_recommendations+1]\n",
    "    similar_books_titles = df_train_set.iloc[similar_books_indices]['Name'].tolist()\n",
    "    \n",
    "    return similar_books_titles"
   ]
  },
  {
   "cell_type": "code",
   "execution_count": 31,
   "id": "3c07b519",
   "metadata": {},
   "outputs": [
    {
     "name": "stdout",
     "output_type": "stream",
     "text": [
      "Recommended Books:\n",
      "1. Naked\n",
      "2. Wuthering Heights\n",
      "3. Pet Sematary\n",
      "4. Mother Night\n",
      "5. V for Vendetta\n"
     ]
    }
   ],
   "source": [
    "# Example: Recommend 5 books similar to \"A Short History of Nearly Everything\"\n",
    "recommendations = recommend_books(\"A Short History of Nearly Everything\", weighted_similarity_matrix)\n",
    "print(\"Recommended Books:\")\n",
    "for i, book in enumerate(recommendations, 1):\n",
    "    print(f\"{i}. {book}\")"
   ]
  },
  {
   "cell_type": "markdown",
   "id": "fda8ab0c",
   "metadata": {},
   "source": [
    "References used:\n",
    "\n",
    "https://www.kaggle.com/code/olih1029/book-rating \n",
    "\n",
    "https://www.kaggle.com/code/klaragerlei/book-recommendations-from-movies\n",
    "\n",
    "https://www.kaggle.com/code/donkratas/best-book-of-every-year"
   ]
  }
 ],
 "metadata": {
  "kernelspec": {
   "display_name": "Python 3 (ipykernel)",
   "language": "python",
   "name": "python3"
  },
  "language_info": {
   "codemirror_mode": {
    "name": "ipython",
    "version": 3
   },
   "file_extension": ".py",
   "mimetype": "text/x-python",
   "name": "python",
   "nbconvert_exporter": "python",
   "pygments_lexer": "ipython3",
   "version": "3.11.4"
  }
 },
 "nbformat": 4,
 "nbformat_minor": 5
}
